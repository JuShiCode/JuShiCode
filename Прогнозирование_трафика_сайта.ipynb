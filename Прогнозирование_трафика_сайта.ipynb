{
  "nbformat": 4,
  "nbformat_minor": 0,
  "metadata": {
    "colab": {
      "name": "Прогнозирование трафика сайта",
      "provenance": [],
      "collapsed_sections": [
        "t43MFvMdHtHf",
        "2oK6iF4aIBCd",
        "RWHExPEsIqqL",
        "C-XQr5LBMw1V",
        "vA9HoHnjM8m-",
        "s2G8h5WHJzms"
      ],
      "machine_shape": "hm",
      "include_colab_link": true
    },
    "kernelspec": {
      "name": "python3",
      "display_name": "Python 3"
    },
    "accelerator": "GPU"
  },
  "cells": [
    {
      "cell_type": "markdown",
      "metadata": {
        "id": "view-in-github",
        "colab_type": "text"
      },
      "source": [
        "<a href=\"https://colab.research.google.com/github/JuShiCode/JuShiCode/blob/main/%D0%9F%D1%80%D0%BE%D0%B3%D0%BD%D0%BE%D0%B7%D0%B8%D1%80%D0%BE%D0%B2%D0%B0%D0%BD%D0%B8%D0%B5_%D1%82%D1%80%D0%B0%D1%84%D0%B8%D0%BA%D0%B0_%D1%81%D0%B0%D0%B9%D1%82%D0%B0.ipynb\" target=\"_parent\"><img src=\"https://colab.research.google.com/assets/colab-badge.svg\" alt=\"Open In Colab\"/></a>"
      ]
    },
    {
      "cell_type": "markdown",
      "metadata": {
        "id": "t43MFvMdHtHf"
      },
      "source": [
        "#Загружаем библиотеки"
      ]
    },
    {
      "cell_type": "code",
      "metadata": {
        "id": "OOweilL20R7n"
      },
      "source": [
        "import pandas as pd #pandas\n",
        "import numpy as np #numpy\n",
        "import matplotlib.pyplot as plt #отрисовка графиков\n",
        "%matplotlib inline\n",
        "\n",
        "from tensorflow.keras import utils #для to_categorical\n",
        "from tensorflow.keras.optimizers import Adam #Оптимизатор\n",
        "from tensorflow.keras.models import Sequential, Model #модели\n",
        "from tensorflow.keras.layers import concatenate, Input, Dense, Dropout, BatchNormalization, Flatten, Conv1D, LSTM #стандартные слои\n",
        "from sklearn.preprocessing import StandardScaler, MinMaxScaler #нормировщики\n",
        "from tensorflow.keras.preprocessing.sequence import TimeseriesGenerator #для генерации выборки временных рядов"
      ],
      "execution_count": null,
      "outputs": []
    },
    {
      "cell_type": "markdown",
      "metadata": {
        "id": "2oK6iF4aIBCd"
      },
      "source": [
        "#Загружаем данные"
      ]
    },
    {
      "cell_type": "code",
      "metadata": {
        "colab": {
          "base_uri": "https://localhost:8080/"
        },
        "id": "t1yDolbPH9BY",
        "outputId": "53a99e44-7315-4f77-8a77-d1b72f610872"
      },
      "source": [
        "from google.colab import drive\n",
        "drive.mount('/content/drive')"
      ],
      "execution_count": null,
      "outputs": [
        {
          "output_type": "stream",
          "text": [
            "Drive already mounted at /content/drive; to attempt to forcibly remount, call drive.mount(\"/content/drive\", force_remount=True).\n"
          ],
          "name": "stdout"
        }
      ]
    },
    {
      "cell_type": "code",
      "metadata": {
        "id": "zOe9qJbKimzh",
        "colab": {
          "base_uri": "https://localhost:8080/",
          "height": 204
        },
        "outputId": "90b22cd1-b7b6-4d6c-832e-1de4732e4e26"
      },
      "source": [
        "base_data = pd.read_csv('/content/drive/My Drive/Базы/traff.csv')\n",
        "base_data.head()"
      ],
      "execution_count": null,
      "outputs": [
        {
          "output_type": "execute_result",
          "data": {
            "text/html": [
              "<div>\n",
              "<style scoped>\n",
              "    .dataframe tbody tr th:only-of-type {\n",
              "        vertical-align: middle;\n",
              "    }\n",
              "\n",
              "    .dataframe tbody tr th {\n",
              "        vertical-align: top;\n",
              "    }\n",
              "\n",
              "    .dataframe thead th {\n",
              "        text-align: right;\n",
              "    }\n",
              "</style>\n",
              "<table border=\"1\" class=\"dataframe\">\n",
              "  <thead>\n",
              "    <tr style=\"text-align: right;\">\n",
              "      <th></th>\n",
              "      <th>1/1/2017</th>\n",
              "      <th>22,226.00</th>\n",
              "    </tr>\n",
              "  </thead>\n",
              "  <tbody>\n",
              "    <tr>\n",
              "      <th>0</th>\n",
              "      <td>1/2/2017</td>\n",
              "      <td>29,593.00</td>\n",
              "    </tr>\n",
              "    <tr>\n",
              "      <th>1</th>\n",
              "      <td>1/3/2017</td>\n",
              "      <td>31,726.00</td>\n",
              "    </tr>\n",
              "    <tr>\n",
              "      <th>2</th>\n",
              "      <td>1/4/2017</td>\n",
              "      <td>32,684.00</td>\n",
              "    </tr>\n",
              "    <tr>\n",
              "      <th>3</th>\n",
              "      <td>1/5/2017</td>\n",
              "      <td>31,820.00</td>\n",
              "    </tr>\n",
              "    <tr>\n",
              "      <th>4</th>\n",
              "      <td>1/6/2017</td>\n",
              "      <td>29,354.00</td>\n",
              "    </tr>\n",
              "  </tbody>\n",
              "</table>\n",
              "</div>"
            ],
            "text/plain": [
              "   1/1/2017  22,226.00\n",
              "0  1/2/2017  29,593.00\n",
              "1  1/3/2017  31,726.00\n",
              "2  1/4/2017  32,684.00\n",
              "3  1/5/2017  31,820.00\n",
              "4  1/6/2017  29,354.00"
            ]
          },
          "metadata": {
            "tags": []
          },
          "execution_count": 4
        }
      ]
    },
    {
      "cell_type": "code",
      "metadata": {
        "id": "eVwYDNRT4dKo",
        "colab": {
          "base_uri": "https://localhost:8080/",
          "height": 204
        },
        "outputId": "9313470a-6704-47e8-a6e0-ef19a6e7b37a"
      },
      "source": [
        "# Убираем ненужную колонку с датой\n",
        "base_data = base_data.iloc[:,1:]\n",
        "base_data.columns = ['traff']\n",
        "base_data.head()"
      ],
      "execution_count": null,
      "outputs": [
        {
          "output_type": "execute_result",
          "data": {
            "text/html": [
              "<div>\n",
              "<style scoped>\n",
              "    .dataframe tbody tr th:only-of-type {\n",
              "        vertical-align: middle;\n",
              "    }\n",
              "\n",
              "    .dataframe tbody tr th {\n",
              "        vertical-align: top;\n",
              "    }\n",
              "\n",
              "    .dataframe thead th {\n",
              "        text-align: right;\n",
              "    }\n",
              "</style>\n",
              "<table border=\"1\" class=\"dataframe\">\n",
              "  <thead>\n",
              "    <tr style=\"text-align: right;\">\n",
              "      <th></th>\n",
              "      <th>traff</th>\n",
              "    </tr>\n",
              "  </thead>\n",
              "  <tbody>\n",
              "    <tr>\n",
              "      <th>0</th>\n",
              "      <td>29,593.00</td>\n",
              "    </tr>\n",
              "    <tr>\n",
              "      <th>1</th>\n",
              "      <td>31,726.00</td>\n",
              "    </tr>\n",
              "    <tr>\n",
              "      <th>2</th>\n",
              "      <td>32,684.00</td>\n",
              "    </tr>\n",
              "    <tr>\n",
              "      <th>3</th>\n",
              "      <td>31,820.00</td>\n",
              "    </tr>\n",
              "    <tr>\n",
              "      <th>4</th>\n",
              "      <td>29,354.00</td>\n",
              "    </tr>\n",
              "  </tbody>\n",
              "</table>\n",
              "</div>"
            ],
            "text/plain": [
              "       traff\n",
              "0  29,593.00\n",
              "1  31,726.00\n",
              "2  32,684.00\n",
              "3  31,820.00\n",
              "4  29,354.00"
            ]
          },
          "metadata": {
            "tags": []
          },
          "execution_count": 5
        }
      ]
    },
    {
      "cell_type": "code",
      "metadata": {
        "id": "2a3kwlHT1q2S"
      },
      "source": [
        "# Удаляем ненужный символ ','\n",
        "a = []\n",
        "for i in range(len(base_data)):\n",
        "    \n",
        "    a.append(float(base_data['traff'][i].replace(',','')))"
      ],
      "execution_count": null,
      "outputs": []
    },
    {
      "cell_type": "code",
      "metadata": {
        "id": "3HdtCCmPrk_P",
        "colab": {
          "base_uri": "https://localhost:8080/",
          "height": 419
        },
        "outputId": "bc3f128c-2a8e-4153-daa6-23c290c7e41f"
      },
      "source": [
        "index = list(range(len(base_data)))\n",
        "data = pd.DataFrame(a, columns = ['traff'], index = index)\n",
        "data"
      ],
      "execution_count": null,
      "outputs": [
        {
          "output_type": "execute_result",
          "data": {
            "text/html": [
              "<div>\n",
              "<style scoped>\n",
              "    .dataframe tbody tr th:only-of-type {\n",
              "        vertical-align: middle;\n",
              "    }\n",
              "\n",
              "    .dataframe tbody tr th {\n",
              "        vertical-align: top;\n",
              "    }\n",
              "\n",
              "    .dataframe thead th {\n",
              "        text-align: right;\n",
              "    }\n",
              "</style>\n",
              "<table border=\"1\" class=\"dataframe\">\n",
              "  <thead>\n",
              "    <tr style=\"text-align: right;\">\n",
              "      <th></th>\n",
              "      <th>traff</th>\n",
              "    </tr>\n",
              "  </thead>\n",
              "  <tbody>\n",
              "    <tr>\n",
              "      <th>0</th>\n",
              "      <td>29593.0</td>\n",
              "    </tr>\n",
              "    <tr>\n",
              "      <th>1</th>\n",
              "      <td>31726.0</td>\n",
              "    </tr>\n",
              "    <tr>\n",
              "      <th>2</th>\n",
              "      <td>32684.0</td>\n",
              "    </tr>\n",
              "    <tr>\n",
              "      <th>3</th>\n",
              "      <td>31820.0</td>\n",
              "    </tr>\n",
              "    <tr>\n",
              "      <th>4</th>\n",
              "      <td>29354.0</td>\n",
              "    </tr>\n",
              "    <tr>\n",
              "      <th>...</th>\n",
              "      <td>...</td>\n",
              "    </tr>\n",
              "    <tr>\n",
              "      <th>1089</th>\n",
              "      <td>29801.0</td>\n",
              "    </tr>\n",
              "    <tr>\n",
              "      <th>1090</th>\n",
              "      <td>34913.0</td>\n",
              "    </tr>\n",
              "    <tr>\n",
              "      <th>1091</th>\n",
              "      <td>37665.0</td>\n",
              "    </tr>\n",
              "    <tr>\n",
              "      <th>1092</th>\n",
              "      <td>32643.0</td>\n",
              "    </tr>\n",
              "    <tr>\n",
              "      <th>1093</th>\n",
              "      <td>28212.0</td>\n",
              "    </tr>\n",
              "  </tbody>\n",
              "</table>\n",
              "<p>1094 rows × 1 columns</p>\n",
              "</div>"
            ],
            "text/plain": [
              "        traff\n",
              "0     29593.0\n",
              "1     31726.0\n",
              "2     32684.0\n",
              "3     31820.0\n",
              "4     29354.0\n",
              "...       ...\n",
              "1089  29801.0\n",
              "1090  34913.0\n",
              "1091  37665.0\n",
              "1092  32643.0\n",
              "1093  28212.0\n",
              "\n",
              "[1094 rows x 1 columns]"
            ]
          },
          "metadata": {
            "tags": []
          },
          "execution_count": 7
        }
      ]
    },
    {
      "cell_type": "code",
      "metadata": {
        "id": "oZhnaSWvoVST",
        "colab": {
          "base_uri": "https://localhost:8080/"
        },
        "outputId": "400422d0-bfc9-4e2c-9b30-9447dedd3ef5"
      },
      "source": [
        "data.shape"
      ],
      "execution_count": null,
      "outputs": [
        {
          "output_type": "execute_result",
          "data": {
            "text/plain": [
              "(1094, 1)"
            ]
          },
          "metadata": {
            "tags": []
          },
          "execution_count": 8
        }
      ]
    },
    {
      "cell_type": "markdown",
      "metadata": {
        "id": "RWHExPEsIqqL"
      },
      "source": [
        "#Формируем выборки"
      ]
    },
    {
      "cell_type": "code",
      "metadata": {
        "id": "luxfI4ck4pO9"
      },
      "source": [
        "xLen = 60\n",
        "valLen = 300 \n",
        "\n",
        "trainLen = data.shape[0]-valLen \n",
        "\n",
        "xTrain,xTest = data[:trainLen], data[trainLen+xLen+2:]\n",
        "\n",
        "xScaler = MinMaxScaler()\n",
        "xScaler.fit(xTrain)\n",
        "xTrain = xScaler.transform(xTrain)\n",
        "xTest = xScaler.transform(xTest)\n",
        "\n",
        "yTrain,yTest = np.reshape(data[:trainLen],(-1,1)), np.reshape(data[trainLen+xLen+2:],(-1,1)) \n",
        "yScaler = MinMaxScaler()\n",
        "yScaler.fit(yTrain)\n",
        "yTrain = yScaler.transform(yTrain)\n",
        "yTest = yScaler.transform(yTest)\n",
        "\n",
        "trainDataGen = TimeseriesGenerator(xTrain, yTrain, \n",
        "                               length=xLen, sampling_rate=1, \n",
        "                               batch_size=20)                \n",
        "\n",
        "testDataGen = TimeseriesGenerator(xTest, yTest,\n",
        "                               length=xLen, sampling_rate=1,\n",
        "                               batch_size=20)"
      ],
      "execution_count": null,
      "outputs": []
    },
    {
      "cell_type": "code",
      "metadata": {
        "id": "S8aO86Ft6e2U",
        "colab": {
          "base_uri": "https://localhost:8080/"
        },
        "outputId": "a074da15-31e8-47a6-b7fc-c5883798a98b"
      },
      "source": [
        "print(xTrain.shape)\n",
        "print(xTest.shape)\n",
        "print(yTrain.shape)\n",
        "print(yTest.shape)\n",
        "print(trainDataGen[0][0].shape)\n",
        "# print(testDataGen.shape)"
      ],
      "execution_count": null,
      "outputs": [
        {
          "output_type": "stream",
          "text": [
            "(794, 1)\n",
            "(238, 1)\n",
            "(794, 1)\n",
            "(238, 1)\n",
            "(20, 60, 1)\n"
          ],
          "name": "stdout"
        }
      ]
    },
    {
      "cell_type": "markdown",
      "metadata": {
        "id": "C-XQr5LBMw1V"
      },
      "source": [
        "# Визуализация результатов"
      ]
    },
    {
      "cell_type": "code",
      "metadata": {
        "id": "GrlShd_ciOsx"
      },
      "source": [
        "def getPred(currModel, xVal, yVal, yScaler):\n",
        "\n",
        "  predVal = yScaler.inverse_transform(currModel.predict(xVal))\n",
        "  yValUnscaled = yScaler.inverse_transform(yVal)\n",
        "  \n",
        "  return (predVal, yValUnscaled)\n",
        "\n",
        "def showPredict(start, step, channel, predVal, yValUnscaled):\n",
        "  plt.plot(predVal[start:start+step, 0],\n",
        "           label='Прогноз')\n",
        "  plt.plot(yValUnscaled[start:start+step, channel], \n",
        "           label='Базовый ряд')\n",
        "  plt.xlabel('Время')\n",
        "  plt.ylabel('Значение Close')\n",
        "  plt.legend()\n",
        "  plt.show()\n",
        "  \n",
        "def correlate(a, b):\n",
        "\n",
        "  ma = a.mean() \n",
        "  mb = b.mean()\n",
        "  mab = (a*b).mean() \n",
        "  sa = a.std() \n",
        "  sb = b.std() \n",
        "  \n",
        "  val = 1\n",
        "  if ((sa>0) & (sb>0)):\n",
        "    val = (mab-ma*mb)/(sa*sb)\n",
        "  return val\n",
        "\n",
        "def showCorr(channels, corrSteps, predVal, yValUnscaled):\n",
        "  for ch in channels:\n",
        "    corr = []\n",
        "    yLen = yValUnscaled.shape[0] \n",
        "    for i in range(corrSteps):\n",
        "      corr.append(correlate(yValUnscaled[:yLen-i,ch], predVal[i:, 0]))\n",
        "\n",
        "    own_corr = [] \n",
        "\n",
        "    for i in range(corrSteps):\n",
        "      own_corr.append(correlate(yValUnscaled[:yLen-i,ch], yValUnscaled[i:, ch]))\n",
        "\n",
        "    plt.plot(corr, label='Предсказание на ' + str(ch+1) + ' шаг')\n",
        "    plt.plot(own_corr, label='Эталон')\n",
        "    plt.xlabel('Время')\n",
        "    plt.ylabel('Значение')\n",
        "    plt.legend()\n",
        "    plt.show()\n",
        "\n",
        "DataGen = TimeseriesGenerator(xTest, yTest,\n",
        "                               length=xLen, sampling_rate=1,\n",
        "                               batch_size=len(xTest))\n",
        "xVal = []\n",
        "yVal = []\n",
        "for i in DataGen:\n",
        "  xVal.append(i[0])\n",
        "  yVal.append(i[1])\n",
        "\n",
        "xVal = np.array(xVal)\n",
        "yVal = np.array(yVal)"
      ],
      "execution_count": null,
      "outputs": []
    },
    {
      "cell_type": "markdown",
      "metadata": {
        "id": "vA9HoHnjM8m-"
      },
      "source": [
        "# Нейронная сеть"
      ]
    },
    {
      "cell_type": "code",
      "metadata": {
        "id": "td4iY8Ht_Dmr",
        "colab": {
          "base_uri": "https://localhost:8080/",
          "height": 605
        },
        "outputId": "7992b499-20c3-4a9b-d546-a4b0e0c327ed"
      },
      "source": [
        "modelC = Sequential()\n",
        "\n",
        "modelC.add(Conv1D(2048, 5, input_shape = (xLen,1), activation='linear'))\n",
        "modelC.add(Flatten())\n",
        "modelC.add(Dense(2048, activation='linear'))\n",
        "modelC.add(Dense(1, activation='linear'))\n",
        "\n",
        "modelC.compile(loss='mse', optimizer=Adam(lr=1e-4))\n",
        "\n",
        "history = modelC.fit(trainDataGen,\n",
        "                    epochs=10, verbose=1,\n",
        "                    validation_data=testDataGen)\n",
        "\n",
        "plt.plot(history.history['loss'], \n",
        "         label='Средняя абсолютная ошибка на обучающем наборе')\n",
        "plt.plot(history.history['val_loss'], \n",
        "         label='Средняя абсолютная ошибка на проверочном наборе')\n",
        "plt.ylabel('Средняя ошибка')\n",
        "plt.legend()\n",
        "plt.show()"
      ],
      "execution_count": null,
      "outputs": [
        {
          "output_type": "stream",
          "text": [
            "Epoch 1/10\n",
            "37/37 [==============================] - 18s 40ms/step - loss: 13.9019 - val_loss: 1.9164\n",
            "Epoch 2/10\n",
            "37/37 [==============================] - 1s 29ms/step - loss: 0.7091 - val_loss: 0.0138\n",
            "Epoch 3/10\n",
            "37/37 [==============================] - 1s 29ms/step - loss: 0.0561 - val_loss: 0.0721\n",
            "Epoch 4/10\n",
            "37/37 [==============================] - 1s 29ms/step - loss: 0.0265 - val_loss: 0.0073\n",
            "Epoch 5/10\n",
            "37/37 [==============================] - 1s 29ms/step - loss: 0.0104 - val_loss: 0.0051\n",
            "Epoch 6/10\n",
            "37/37 [==============================] - 1s 29ms/step - loss: 0.0070 - val_loss: 0.0070\n",
            "Epoch 7/10\n",
            "37/37 [==============================] - 1s 29ms/step - loss: 0.0066 - val_loss: 0.0049\n",
            "Epoch 8/10\n",
            "37/37 [==============================] - 1s 29ms/step - loss: 0.0079 - val_loss: 0.0043\n",
            "Epoch 9/10\n",
            "37/37 [==============================] - 1s 29ms/step - loss: 0.0045 - val_loss: 0.0039\n",
            "Epoch 10/10\n",
            "37/37 [==============================] - 1s 29ms/step - loss: 0.0035 - val_loss: 0.0047\n"
          ],
          "name": "stdout"
        },
        {
          "output_type": "display_data",
          "data": {
            "image/png": "[encoded data removed]",
            "text/plain": [
              "<Figure size 432x288 with 1 Axes>"
            ]
          },
          "metadata": {
            "tags": [],
            "needs_background": "light"
          }
        }
      ]
    },
    {
      "cell_type": "markdown",
      "metadata": {
        "id": "s2G8h5WHJzms"
      },
      "source": [
        "#Результат работы сети"
      ]
    },
    {
      "cell_type": "code",
      "metadata": {
        "id": "S_jj4cp__HAL",
        "colab": {
          "base_uri": "https://localhost:8080/",
          "height": 541
        },
        "outputId": "53692a3d-6f95-4664-e37b-f011d7538c43"
      },
      "source": [
        "#Прогнозируем данные текущей сетью\n",
        "currModel = modelC\n",
        "(predVal, yValUnscaled) = getPred(currModel, xVal[0], yVal[0], yScaler)\n",
        "\n",
        "showPredict(0, 4000, 0, predVal, yValUnscaled)\n",
        "\n",
        "showCorr([0], 60, predVal, yValUnscaled)"
      ],
      "execution_count": null,
      "outputs": [
        {
          "output_type": "display_data",
          "data": {
            "image/png": "[encoded data removed]",
            "text/plain": [
              "<Figure size 432x288 with 1 Axes>"
            ]
          },
          "metadata": {
            "tags": [],
            "needs_background": "light"
          }
        },
        {
          "output_type": "display_data",
          "data": {
            "image/png": "[encoded data removed]",
            "text/plain": [
              "<Figure size 432x288 with 1 Axes>"
            ]
          },
          "metadata": {
            "tags": [],
            "needs_background": "light"
          }
        }
      ]
    }
  ]
}