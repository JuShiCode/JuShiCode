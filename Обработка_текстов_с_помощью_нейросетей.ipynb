{
  "nbformat": 4,
  "nbformat_minor": 0,
  "metadata": {
    "colab": {
      "name": "Обработка текстов с помощью нейросетей",
      "provenance": [],
      "collapsed_sections": [
        "ZKCxx8Ncy7LZ",
        "trJRx6ysrVMF",
        "rvFORQPf5rSF",
        "r4IB6OQBKBnS",
        "ldjFPJkUaz47"
      ],
      "machine_shape": "hm",
      "include_colab_link": true
    },
    "kernelspec": {
      "name": "python3",
      "display_name": "Python 3"
    }
  },
  "cells": [
    {
      "cell_type": "markdown",
      "metadata": {
        "id": "view-in-github",
        "colab_type": "text"
      },
      "source": [
        "<a href=\"https://colab.research.google.com/github/JuShiCode/JuShiCode/blob/main/%D0%9E%D0%B1%D1%80%D0%B0%D0%B1%D0%BE%D1%82%D0%BA%D0%B0_%D1%82%D0%B5%D0%BA%D1%81%D1%82%D0%BE%D0%B2_%D1%81_%D0%BF%D0%BE%D0%BC%D0%BE%D1%89%D1%8C%D1%8E_%D0%BD%D0%B5%D0%B9%D1%80%D0%BE%D1%81%D0%B5%D1%82%D0%B5%D0%B9.ipynb\" target=\"_parent\"><img src=\"https://colab.research.google.com/assets/colab-badge.svg\" alt=\"Open In Colab\"/></a>"
      ]
    },
    {
      "cell_type": "markdown",
      "metadata": {
        "id": "ZKCxx8Ncy7LZ"
      },
      "source": [
        "##Загружаем библиотеки"
      ]
    },
    {
      "cell_type": "code",
      "metadata": {
        "id": "yMDYnukfULjl"
      },
      "source": [
        "from google.colab import files # Для работы с файлами \n",
        "import numpy as np # Для работы с данными \n",
        "import pandas as pd # Для работы с таблицами\n",
        "import matplotlib.pyplot as plt # Для вывода графиков\n",
        "import os # Для работы с файлами\n",
        "%matplotlib inline\n",
        "\n",
        "from tensorflow.keras import utils # Для работы с категориальными данными\n",
        "from tensorflow.keras.models import Sequential # Полносвязная модель\n",
        "from tensorflow.keras.layers import Dense, Dropout, SpatialDropout1D, BatchNormalization, Embedding, Flatten, Activation # Слои для сети\n",
        "from tensorflow.keras.preprocessing.text import Tokenizer # Методы для работы с текстами и преобразования их в последовательности\n",
        "from tensorflow.keras.preprocessing.sequence import pad_sequences # Метод для работы с последовательностями\n",
        "from tensorflow.keras.optimizers import Adam #Оптимизатор\n",
        "\n",
        "from sklearn.preprocessing import LabelEncoder # Метод кодирования тестовых лейблов\n",
        "from sklearn.model_selection import train_test_split # Для разделения выборки на тестовую и обучающую\n",
        "from google.colab import drive # Для работы с Google Drive\n",
        "import time # Импортируем библиотеку time"
      ],
      "execution_count": null,
      "outputs": []
    },
    {
      "cell_type": "code",
      "metadata": {
        "id": "Uotak5faUr-6",
        "colab": {
          "base_uri": "https://localhost:8080/",
          "height": 118
        },
        "outputId": "6be9af00-a1af-4b17-89fb-a3c263e775db"
      },
      "source": [
        "drive.mount('/content/drive')"
      ],
      "execution_count": null,
      "outputs": [
        {
          "output_type": "stream",
          "text": [
            "Go to this URL in a browser: https://accounts.google.com/o/oauth2/auth?client_id=947318989803-6bn6qk8qdgf4n4g3pfee6491hc0brc4i.apps.googleusercontent.com&redirect_uri=urn%3aietf%3awg%3aoauth%3a2.0%3aoob&scope=email%20https%3a%2f%2fwww.googleapis.com%2fauth%2fdocs.test%20https%3a%2f%2fwww.googleapis.com%2fauth%2fdrive%20https%3a%2f%2fwww.googleapis.com%2fauth%2fdrive.photos.readonly%20https%3a%2f%2fwww.googleapis.com%2fauth%2fpeopleapi.readonly&response_type=code\n",
            "\n",
            "Enter your authorization code:\n",
            "··········\n",
            "Mounted at /content/drive\n"
          ],
          "name": "stdout"
        }
      ]
    },
    {
      "cell_type": "markdown",
      "metadata": {
        "id": "trJRx6ysrVMF"
      },
      "source": [
        "##Обрабатываем данные"
      ]
    },
    {
      "cell_type": "code",
      "metadata": {
        "id": "3VZb7mb8rS7o",
        "colab": {
          "base_uri": "https://localhost:8080/",
          "height": 33
        },
        "outputId": "33092c65-10dd-4f3d-bcd2-2b7fa25d5d8f"
      },
      "source": [
        "!rm -R /content/texts #удаляем папку texts"
      ],
      "execution_count": null,
      "outputs": [
        {
          "output_type": "stream",
          "text": [
            "rm: cannot remove '/content/texts': No such file or directory\n"
          ],
          "name": "stdout"
        }
      ]
    },
    {
      "cell_type": "code",
      "metadata": {
        "id": "9D4oY6DerS7s"
      },
      "source": [
        "#создаём папку и распаковываем в неё файлы\n",
        "!unzip -q '/content/drive/My Drive/Neural University/Базы/Тексты писателей.zip' -d /content/texts "
      ],
      "execution_count": null,
      "outputs": []
    },
    {
      "cell_type": "code",
      "metadata": {
        "id": "ePlGYHYJy4X-"
      },
      "source": [
        "def readText(fileName): #функция для чтения файла принимает на вход имя файла\n",
        "  f = open(fileName, 'r')        #открываем файл в режиме чтения\n",
        "  text = f.read()                #читаем текст\n",
        "  text = text.replace(\"\\n\", \" \") #переводим в пробелы переносы строки\n",
        "  \n",
        "  return text                    #возвращаем текст\n",
        "\n",
        "className = [\"О. Генри\", \"Стругацкие\", \"Булгаков\", \"Саймак\", \"Фрай\", \"Брэдберри\"] # Объявляем интересующие нас классы\n",
        "nClasses = len(className) # Считаем количество классов"
      ],
      "execution_count": null,
      "outputs": []
    },
    {
      "cell_type": "code",
      "metadata": {
        "id": "yqjbRjvpy4YE",
        "colab": {
          "base_uri": "https://localhost:8080/",
          "height": 310
        },
        "outputId": "f64b8b82-8baf-4e58-d4f6-c578e38f6ab0"
      },
      "source": [
        "#Загружаем обучающие тексты\n",
        "\n",
        "trainText = [] #Формируем обучающие тексты\n",
        "testText = [] #Формируем тестовые тексты\n",
        "\n",
        "#Формирование необходимо произвести следующим образом \n",
        "#Класс каждого i-ого эллемента в обучающей выборке должен соответствовать \n",
        "#классу каждого i-ого эллемента в тестовой выборке\n",
        "\n",
        "for i in className: \n",
        "  for j in os.listdir('texts/'): \n",
        "    if i in j: #Проверяем, содержит ли файл j в названии имя класса i\n",
        "      \n",
        "      if 'Обучающая' in j: \n",
        "        trainText.append(readText('texts/' + j)) #добавляем в обучающую выборку\n",
        "        print(j, 'добавлен в обучающую выборку') #Выводим информацию\n",
        "      if 'Тестовая' in j: \n",
        "        testText.append(readText('texts/' + j)) #добавляем в обучающую выборку\n",
        "        print(j, 'добавлен в тестовую выборку') #Выводим информацию\n",
        "  print()"
      ],
      "execution_count": null,
      "outputs": [
        {
          "output_type": "stream",
          "text": [
            "(О. Генри) Обучающая_50 вместе.txt добавлен в обучающую выборку\n",
            "(О. Генри) Тестовая_20 вместе.txt добавлен в тестовую выборку\n",
            "\n",
            "(Стругацкие) Обучающая_5 вместе.txt добавлен в обучающую выборку\n",
            "(Стругацкие) Тестовая_2 вместе.txt добавлен в тестовую выборку\n",
            "\n",
            "(Булгаков) Обучающая_5 вместе.txt добавлен в обучающую выборку\n",
            "(Булгаков) Тестовая_2 вместе.txt добавлен в тестовую выборку\n",
            "\n",
            "(Клиффорд_Саймак) Тестовая_2 вместе.txt добавлен в тестовую выборку\n",
            "(Клиффорд_Саймак) Обучающая_5 вместе.txt добавлен в обучающую выборку\n",
            "\n",
            "(Макс Фрай) Тестовая_2 вместе.txt добавлен в тестовую выборку\n",
            "(Макс Фрай) Обучающая_5 вместе.txt добавлен в обучающую выборку\n",
            "\n",
            "(Рэй Брэдберри) Тестовая_8 вместе.txt добавлен в тестовую выборку\n",
            "(Рэй Брэдберри) Обучающая_22 вместе.txt добавлен в обучающую выборку\n",
            "\n"
          ],
          "name": "stdout"
        }
      ]
    },
    {
      "cell_type": "code",
      "metadata": {
        "id": "_ZMHqMQ3y4Ya"
      },
      "source": [
        "# Формирование обучающей выборки по листу индексов слов\n",
        "def getSetFromIndexes(wordIndexes, xLen, step): # функция принимает последовательность индексов, размер окна, шаг окна\n",
        "  xSample = [] # Объявляем переменную для векторов\n",
        "  wordsLen = len(wordIndexes) # Считаем количество слов\n",
        "  index = 0 # Задаем начальный индекс \n",
        "\n",
        "  while (index + xLen <= wordsLen):# Идём по всей длине вектора индексов\n",
        "    xSample.append(wordIndexes[index:index+xLen]) # \"Откусываем\" векторы длины xLen\n",
        "    index += step # Смещаеммся вперёд на step\n",
        "    \n",
        "  return xSample"
      ],
      "execution_count": null,
      "outputs": []
    },
    {
      "cell_type": "code",
      "metadata": {
        "id": "hV2b3eIZy4Yd"
      },
      "source": [
        "# Формирование обучающей и проверочной выборки\n",
        "# Из двух листов индексов от двух классов\n",
        "def createSetsMultiClasses(wordIndexes, xLen, step): # Функция принимает последовательность индексов, размер окна, шаг окна\n",
        "\n",
        "  # Для каждого из 6 классов\n",
        "  # Создаём обучающую/проверочную выборку из индексов\n",
        "  nClasses = len(wordIndexes) # Задаем количество классов выборки\n",
        "  classesXSamples = []        # Здесь будет список размером \"кол-во классов*кол-во окон в тексте*длину окна (например, 6 по 1341*1000)\"\n",
        "  for wI in wordIndexes:      # Для каждого текста выборки из последовательности индексов\n",
        "    classesXSamples.append(getSetFromIndexes(wI, xLen, step)) # Добавляем в список очередной текст индексов, разбитый на \"кол-во окон*длину окна\" \n",
        "\n",
        "  # Формируем один общий xSamples\n",
        "  xSamples = [] # Здесь будет список размером \"суммарное кол-во окон во всех текстах*длину окна (например, 15779*1000)\"\n",
        "  ySamples = [] # Здесь будет список размером \"суммарное кол-во окон во всех текстах*вектор длиной 6\"\n",
        "  \n",
        "  for t in range(nClasses): # В диапазоне кол-ва классов(6)\n",
        "    xT = classesXSamples[t] # Берем очередной текст вида \"кол-во окон в тексте*длину окна\"(например, 1341*1000)\n",
        "    for i in range(len(xT)): # И каждое его окно\n",
        "      xSamples.append(xT[i]) # Добавляем в общий список выборки\n",
        "      ySamples.append(utils.to_categorical(t, nClasses)) # Добавляем соответствующий вектор класса\n",
        "\n",
        "  xSamples = np.array(xSamples) # Переводим в массив numpy для подачи в нейронку\n",
        "  ySamples = np.array(ySamples) # Переводим в массив numpy для подачи в нейронку\n",
        "\n",
        "  \n",
        "  return (xSamples, ySamples) #Функция возвращает выборку и соответствующие векторы классов"
      ],
      "execution_count": null,
      "outputs": []
    },
    {
      "cell_type": "markdown",
      "metadata": {
        "id": "rvFORQPf5rSF"
      },
      "source": [
        "#Формируем выборки\n"
      ]
    },
    {
      "cell_type": "code",
      "metadata": {
        "id": "pCxn8LYv3glJ"
      },
      "source": [
        "maxWordsCount = 20000 \n",
        "\n",
        "tokenizer = Tokenizer(num_words=maxWordsCount, filters='', lower=True, split=' ', oov_token='unknown', char_level=False)\n",
        "tokenizer.fit_on_texts(trainText)\n",
        "items = list(tokenizer.word_index.items()) "
      ],
      "execution_count": null,
      "outputs": []
    },
    {
      "cell_type": "code",
      "metadata": {
        "id": "hkJeOizQABT6"
      },
      "source": [
        "trainWordIndexes = tokenizer.texts_to_sequences(trainText) # Обучающие тесты в индексы\n",
        "testWordIndexes = tokenizer.texts_to_sequences(testText)  # Проверочные тесты в индексы"
      ],
      "execution_count": null,
      "outputs": []
    },
    {
      "cell_type": "code",
      "metadata": {
        "id": "SgzoAiyawSwJ"
      },
      "source": [
        "xLen = 5000 #Длина отрезка текста, по которой анализируем, в словах\n",
        "step = 200 #Шаг разбиения исходного текста на обучающие векторы"
      ],
      "execution_count": null,
      "outputs": []
    },
    {
      "cell_type": "code",
      "metadata": {
        "id": "CqAgZWT8RH0b"
      },
      "source": [
        "# обучающий/тестовый набор для Embedding\n",
        "xTrain, yTrain = createSetsMultiClasses(trainWordIndexes, xLen, step) #извлекаем обучающую выборку\n",
        "xTest, yTest = createSetsMultiClasses(testWordIndexes, xLen, step)    #извлекаем тестовую выборку\n"
      ],
      "execution_count": null,
      "outputs": []
    },
    {
      "cell_type": "code",
      "metadata": {
        "id": "VZpWSQWf4pgY"
      },
      "source": [
        "# преобразование выборки для Bag of Words\n",
        "xTrain01 = tokenizer.sequences_to_matrix(xTrain.tolist()) \n",
        "xTest01 = tokenizer.sequences_to_matrix(xTest.tolist()) "
      ],
      "execution_count": null,
      "outputs": []
    },
    {
      "cell_type": "markdown",
      "metadata": {
        "id": "r4IB6OQBKBnS"
      },
      "source": [
        "#Нейронная сеть"
      ]
    },
    {
      "cell_type": "code",
      "metadata": {
        "id": "j9fWpAZTa0Ja",
        "colab": {
          "base_uri": "https://localhost:8080/",
          "height": 928
        },
        "outputId": "13b4d047-9737-4cab-e6d4-774e360f053f"
      },
      "source": [
        "#Создаём полносвязную сеть\n",
        "model01 = Sequential()\n",
        "\n",
        "model01.add(BatchNormalization(input_dim=maxWordsCount))\n",
        "model01.add(Dropout(0.50))\n",
        "\n",
        "model01.add(Dense(16, activation=\"relu\"))\n",
        "\n",
        "model01.add(Dropout(0.50))\n",
        "model01.add(BatchNormalization())\n",
        "\n",
        "model01.add(Dense(6, activation='sigmoid'))\n",
        "\n",
        "model01.compile(optimizer='adam', \n",
        "              loss='categorical_crossentropy', \n",
        "              metrics=['accuracy'])\n",
        "\n",
        "#Обучаем сеть на bag of words\n",
        "history = model01.fit(xTrain01, \n",
        "                      yTrain, \n",
        "                      epochs=20,\n",
        "                      batch_size=128,\n",
        "                      validation_data=(xTest01, yTest))\n",
        "\n",
        "plt.plot(history.history['accuracy'], \n",
        "         label='Доля верных ответов на обучающем наборе')\n",
        "plt.plot(history.history['val_accuracy'], \n",
        "         label='Доля верных ответов на проверочном наборе')\n",
        "plt.xlabel('Эпоха обучения')\n",
        "plt.ylabel('Доля верных ответов')\n",
        "plt.legend()\n",
        "plt.show()"
      ],
      "execution_count": null,
      "outputs": [
        {
          "output_type": "stream",
          "text": [
            "Epoch 1/20\n",
            "70/70 [==============================] - 3s 37ms/step - loss: 1.1928 - accuracy: 0.8090 - val_loss: 1.4460 - val_accuracy: 0.8499\n",
            "Epoch 2/20\n",
            "70/70 [==============================] - 2s 33ms/step - loss: 0.9816 - accuracy: 0.8761 - val_loss: 1.3485 - val_accuracy: 0.8262\n",
            "Epoch 3/20\n",
            "70/70 [==============================] - 2s 33ms/step - loss: 0.8466 - accuracy: 0.8640 - val_loss: 1.2035 - val_accuracy: 0.8462\n",
            "Epoch 4/20\n",
            "70/70 [==============================] - 2s 33ms/step - loss: 0.7274 - accuracy: 0.8664 - val_loss: 1.0641 - val_accuracy: 0.8754\n",
            "Epoch 5/20\n",
            "70/70 [==============================] - 2s 33ms/step - loss: 0.6377 - accuracy: 0.8590 - val_loss: 0.9060 - val_accuracy: 0.9307\n",
            "Epoch 6/20\n",
            "70/70 [==============================] - 2s 33ms/step - loss: 0.5559 - accuracy: 0.8580 - val_loss: 0.7689 - val_accuracy: 0.9234\n",
            "Epoch 7/20\n",
            "70/70 [==============================] - 2s 33ms/step - loss: 0.4987 - accuracy: 0.8531 - val_loss: 0.6659 - val_accuracy: 0.9219\n",
            "Epoch 8/20\n",
            "70/70 [==============================] - 2s 33ms/step - loss: 0.4531 - accuracy: 0.8574 - val_loss: 0.5744 - val_accuracy: 0.9192\n",
            "Epoch 9/20\n",
            "70/70 [==============================] - 2s 33ms/step - loss: 0.4229 - accuracy: 0.8537 - val_loss: 0.5319 - val_accuracy: 0.8924\n",
            "Epoch 10/20\n",
            "70/70 [==============================] - 2s 33ms/step - loss: 0.3916 - accuracy: 0.8608 - val_loss: 0.4827 - val_accuracy: 0.8870\n",
            "Epoch 11/20\n",
            "70/70 [==============================] - 2s 33ms/step - loss: 0.3732 - accuracy: 0.8665 - val_loss: 0.4440 - val_accuracy: 0.8818\n",
            "Epoch 12/20\n",
            "70/70 [==============================] - 2s 33ms/step - loss: 0.3634 - accuracy: 0.8664 - val_loss: 0.4170 - val_accuracy: 0.8730\n",
            "Epoch 13/20\n",
            "70/70 [==============================] - 2s 33ms/step - loss: 0.3418 - accuracy: 0.8759 - val_loss: 0.3995 - val_accuracy: 0.8699\n",
            "Epoch 14/20\n",
            "70/70 [==============================] - 2s 33ms/step - loss: 0.3348 - accuracy: 0.8748 - val_loss: 0.3950 - val_accuracy: 0.8633\n",
            "Epoch 15/20\n",
            "70/70 [==============================] - 2s 33ms/step - loss: 0.3098 - accuracy: 0.8861 - val_loss: 0.3868 - val_accuracy: 0.8587\n",
            "Epoch 16/20\n",
            "70/70 [==============================] - 2s 33ms/step - loss: 0.3004 - accuracy: 0.8890 - val_loss: 0.3579 - val_accuracy: 0.8976\n",
            "Epoch 17/20\n",
            "70/70 [==============================] - 2s 33ms/step - loss: 0.2809 - accuracy: 0.8974 - val_loss: 0.3545 - val_accuracy: 0.9134\n",
            "Epoch 18/20\n",
            "70/70 [==============================] - 2s 33ms/step - loss: 0.2729 - accuracy: 0.8958 - val_loss: 0.3341 - val_accuracy: 0.9638\n",
            "Epoch 19/20\n",
            "70/70 [==============================] - 2s 33ms/step - loss: 0.2727 - accuracy: 0.8942 - val_loss: 0.3026 - val_accuracy: 0.9796\n",
            "Epoch 20/20\n",
            "70/70 [==============================] - 2s 33ms/step - loss: 0.2480 - accuracy: 0.9131 - val_loss: 0.2829 - val_accuracy: 0.9806\n"
          ],
          "name": "stdout"
        },
        {
          "output_type": "display_data",
          "data": {
            "image/png": "[encoded data removed]",
            "text/plain": [
              "<Figure size 432x288 with 1 Axes>"
            ]
          },
          "metadata": {
            "tags": [],
            "needs_background": "light"
          }
        }
      ]
    },
    {
      "cell_type": "code",
      "metadata": {
        "id": "2hVG8tTYWON9",
        "colab": {
          "base_uri": "https://localhost:8080/",
          "height": 50
        },
        "outputId": "a149f4ec-6f23-4614-f765-3da46c614c9f"
      },
      "source": [
        "model01.evaluate(xTest01, yTest) #лучшая точность"
      ],
      "execution_count": null,
      "outputs": [
        {
          "output_type": "stream",
          "text": [
            "103/103 [==============================] - 0s 2ms/step - loss: 0.2829 - accuracy: 0.9806\n"
          ],
          "name": "stdout"
        },
        {
          "output_type": "execute_result",
          "data": {
            "text/plain": [
              "[0.2828596830368042, 0.9805530309677124]"
            ]
          },
          "metadata": {
            "tags": []
          },
          "execution_count": 44
        }
      ]
    },
    {
      "cell_type": "markdown",
      "metadata": {
        "id": "ldjFPJkUaz47"
      },
      "source": [
        "#Проверка работы сети"
      ]
    },
    {
      "cell_type": "code",
      "metadata": {
        "id": "GaNTaRy20a2J"
      },
      "source": [
        "# Проверим работу сети\n",
        "def createTestMultiClasses(wordIndexes, xLen, step):\n",
        "\n",
        "  nClasses = len(wordIndexes)\n",
        "  xTest6Classes01 = [] \n",
        "  xTest6Classes = []   \n",
        "  for wI in wordIndexes: \n",
        "    sample = (getSetFromIndexes(wI, xLen, step)) \n",
        "    xTest6Classes.append(sample)              \n",
        "    xTest6Classes01.append(tokenizer.sequences_to_matrix(sample)) \n",
        "  xTest6Classes01 = np.array(xTest6Classes01)                     \n",
        "  xTest6Classes = np.array(xTest6Classes)                     \n",
        "  \n",
        "  return xTest6Classes01, xTest6Classes \n",
        "\n",
        "# Распознаём тестовую выборку и выводим результаты\n",
        "def recognizeMultiClass(model, xTest, modelName):\n",
        "  print(\"НЕЙРОНКА: \", modelName)\n",
        "  print()\n",
        "  \n",
        "  totalSumRec = 0 # Сумма всех правильных ответов\n",
        "  \n",
        "  #Проходим по всем классам\n",
        "  for i in range(nClasses):\n",
        "    #Получаем результаты распознавания класса по блокам слов длины xLen\n",
        "    currPred = model.predict(xTest[i])\n",
        "    #Определяем номер распознанного класса для каждохо блока слов длины xLen\n",
        "    currOut = np.argmax(currPred, axis=1)\n",
        "\n",
        "    evVal = []\n",
        "    for j in range(nClasses):\n",
        "      evVal.append(len(currOut[currOut==j])/len(xTest[i]))\n",
        "\n",
        "    totalSumRec += len(currOut[currOut==i])\n",
        "    recognizedClass = np.argmax(evVal) #Определяем, какой класс в итоге за какой был распознан\n",
        "    \n",
        "    #Выводим результаты распознавания по текущему классу\n",
        "    isRecognized = \"Это НЕПРАВИЛЬНЫЙ ответ!\"\n",
        "    if (recognizedClass == i):\n",
        "      isRecognized = \"Это ПРАВИЛЬНЫЙ ответ!\"\n",
        "    str1 = 'Класс: ' + className[i] + \" \" * (11 - len(className[i])) + str(int(100*evVal[i])) + \"% сеть отнесла к классу \" + className[recognizedClass]\n",
        "    print(str1, \" \" * (55-len(str1)), isRecognized, sep='')\n",
        "  \n",
        "  #Выводим средний процент распознавания по всем классам вместе\n",
        "  print()\n",
        "  sumCount = 0\n",
        "  for i in range(nClasses):\n",
        "    sumCount += len(xTest[i])\n",
        "  print(\"Средний процент распознавания \", int(100*totalSumRec/sumCount), \"%\", sep='')\n",
        "\n",
        "  print()\n",
        "  \n",
        "  return totalSumRec/sumCount"
      ],
      "execution_count": null,
      "outputs": []
    },
    {
      "cell_type": "code",
      "metadata": {
        "id": "s8oo58WvwGx5"
      },
      "source": [
        "xTest6Classes01, _ = createTestMultiClasses(testWordIndexes, xLen, step) #Преобразование тестовой выборки"
      ],
      "execution_count": null,
      "outputs": []
    },
    {
      "cell_type": "code",
      "metadata": {
        "id": "ccrvz_mWwLZu",
        "colab": {
          "base_uri": "https://localhost:8080/",
          "height": 196
        },
        "outputId": "f81edfc9-245b-468e-b965-a689e808ac5a"
      },
      "source": [
        "#Проверяем точность нейронки обученной на bag of words\n",
        "pred = recognizeMultiClass(model01, xTest6Classes01, \"Тексты 01 + Dense\")"
      ],
      "execution_count": null,
      "outputs": [
        {
          "output_type": "stream",
          "text": [
            "НЕЙРОНКА:  Тексты 01 + Dense\n",
            "\n",
            "Класс: О. Генри   100% сеть отнесла к классу О. Генри  Это ПРАВИЛЬНЫЙ ответ!\n",
            "Класс: Стругацкие 98% сеть отнесла к классу Стругацкие Это ПРАВИЛЬНЫЙ ответ!\n",
            "Класс: Булгаков   99% сеть отнесла к классу Булгаков   Это ПРАВИЛЬНЫЙ ответ!\n",
            "Класс: Саймак     96% сеть отнесла к классу Саймак     Это ПРАВИЛЬНЫЙ ответ!\n",
            "Класс: Фрай       95% сеть отнесла к классу Фрай       Это ПРАВИЛЬНЫЙ ответ!\n",
            "Класс: Брэдберри  100% сеть отнесла к классу Брэдберри Это ПРАВИЛЬНЫЙ ответ!\n",
            "\n",
            "Средний процент распознавания 98%\n",
            "\n"
          ],
          "name": "stdout"
        }
      ]
    }
  ]
}