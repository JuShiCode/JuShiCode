{
  "nbformat": 4,
  "nbformat_minor": 0,
  "metadata": {
    "colab": {
      "name": "Занятие 16_Обработка текстов с помощью нейросетей_домашнее задание",
      "provenance": [],
      "collapsed_sections": [],
      "machine_shape": "hm",
      "include_colab_link": true
    },
    "kernelspec": {
      "name": "python3",
      "display_name": "Python 3"
    }
  },
  "cells": [
    {
      "cell_type": "markdown",
      "metadata": {
        "id": "view-in-github",
        "colab_type": "text"
      },
      "source": [
        "<a href=\"https://colab.research.google.com/github/JuShiCode/JuShiCode/blob/main/%D0%9E%D0%B1%D1%80%D0%B0%D0%B1%D0%BE%D1%82%D0%BA%D0%B0_%D1%82%D0%B5%D0%BA%D1%81%D1%82%D0%BE%D0%B2_%D1%81_%D0%BF%D0%BE%D0%BC%D0%BE%D1%89%D1%8C%D1%8E_%D0%BD%D0%B5%D0%B9%D1%80%D0%BE%D1%81%D0%B5%D1%82%D0%B5%D0%B9.ipynb\" target=\"_parent\"><img src=\"https://colab.research.google.com/assets/colab-badge.svg\" alt=\"Open In Colab\"/></a>"
      ]
    },
    {
      "cell_type": "markdown",
      "metadata": {
        "id": "scAT4IgMpmR6"
      },
      "source": [
        "#LIGHT"
      ]
    },
    {
      "cell_type": "markdown",
      "metadata": {
        "id": "ZKCxx8Ncy7LZ"
      },
      "source": [
        "##Загружаем библиотеки"
      ]
    },
    {
      "cell_type": "code",
      "metadata": {
        "id": "yMDYnukfULjl"
      },
      "source": [
        "from google.colab import files # Для работы с файлами \n",
        "import numpy as np # Для работы с данными \n",
        "import pandas as pd # Для работы с таблицами\n",
        "import matplotlib.pyplot as plt # Для вывода графиков\n",
        "import os # Для работы с файлами\n",
        "%matplotlib inline\n",
        "\n",
        "from tensorflow.keras import utils # Для работы с категориальными данными\n",
        "from tensorflow.keras.models import Sequential # Полносвязная модель\n",
        "from tensorflow.keras.layers import Dense, Dropout, SpatialDropout1D, BatchNormalization, Embedding, Flatten, Activation # Слои для сети\n",
        "from tensorflow.keras.preprocessing.text import Tokenizer # Методы для работы с текстами и преобразования их в последовательности\n",
        "from tensorflow.keras.preprocessing.sequence import pad_sequences # Метод для работы с последовательностями\n",
        "from tensorflow.keras.optimizers import Adam #Оптимизатор\n",
        "\n",
        "from sklearn.preprocessing import LabelEncoder # Метод кодирования тестовых лейблов\n",
        "from sklearn.model_selection import train_test_split # Для разделения выборки на тестовую и обучающую\n",
        "from google.colab import drive # Для работы с Google Drive\n",
        "import time # Импортируем библиотеку time"
      ],
      "execution_count": null,
      "outputs": []
    },
    {
      "cell_type": "code",
      "metadata": {
        "id": "Uotak5faUr-6",
        "colab": {
          "base_uri": "https://localhost:8080/",
          "height": 118
        },
        "outputId": "6be9af00-a1af-4b17-89fb-a3c263e775db"
      },
      "source": [
        "drive.mount('/content/drive')"
      ],
      "execution_count": null,
      "outputs": [
        {
          "output_type": "stream",
          "text": [
            "Go to this URL in a browser: https://accounts.google.com/o/oauth2/auth?client_id=947318989803-6bn6qk8qdgf4n4g3pfee6491hc0brc4i.apps.googleusercontent.com&redirect_uri=urn%3aietf%3awg%3aoauth%3a2.0%3aoob&scope=email%20https%3a%2f%2fwww.googleapis.com%2fauth%2fdocs.test%20https%3a%2f%2fwww.googleapis.com%2fauth%2fdrive%20https%3a%2f%2fwww.googleapis.com%2fauth%2fdrive.photos.readonly%20https%3a%2f%2fwww.googleapis.com%2fauth%2fpeopleapi.readonly&response_type=code\n",
            "\n",
            "Enter your authorization code:\n",
            "··········\n",
            "Mounted at /content/drive\n"
          ],
          "name": "stdout"
        }
      ]
    },
    {
      "cell_type": "markdown",
      "metadata": {
        "id": "trJRx6ysrVMF"
      },
      "source": [
        "##Обрабатываем данные"
      ]
    },
    {
      "cell_type": "code",
      "metadata": {
        "id": "3VZb7mb8rS7o",
        "colab": {
          "base_uri": "https://localhost:8080/",
          "height": 33
        },
        "outputId": "33092c65-10dd-4f3d-bcd2-2b7fa25d5d8f"
      },
      "source": [
        "!rm -R /content/texts #удаляем папку texts"
      ],
      "execution_count": null,
      "outputs": [
        {
          "output_type": "stream",
          "text": [
            "rm: cannot remove '/content/texts': No such file or directory\n"
          ],
          "name": "stdout"
        }
      ]
    },
    {
      "cell_type": "code",
      "metadata": {
        "id": "9D4oY6DerS7s"
      },
      "source": [
        "#создаём папку и распаковываем в неё файлы\n",
        "!unzip -q '/content/drive/My Drive/Neural University/Базы/Тексты писателей.zip' -d /content/texts "
      ],
      "execution_count": null,
      "outputs": []
    },
    {
      "cell_type": "code",
      "metadata": {
        "id": "ePlGYHYJy4X-"
      },
      "source": [
        "def readText(fileName): #функция для чтения файла принимает на вход имя файла\n",
        "  f = open(fileName, 'r')        #открываем файл в режиме чтения\n",
        "  text = f.read()                #читаем текст\n",
        "  text = text.replace(\"\\n\", \" \") #переводим в пробелы переносы строки\n",
        "  \n",
        "  return text                    #возвращаем текст\n",
        "\n",
        "className = [\"О. Генри\", \"Стругацкие\", \"Булгаков\", \"Саймак\", \"Фрай\", \"Брэдберри\"] # Объявляем интересующие нас классы\n",
        "nClasses = len(className) # Считаем количество классов"
      ],
      "execution_count": null,
      "outputs": []
    },
    {
      "cell_type": "code",
      "metadata": {
        "id": "yqjbRjvpy4YE",
        "colab": {
          "base_uri": "https://localhost:8080/",
          "height": 310
        },
        "outputId": "f64b8b82-8baf-4e58-d4f6-c578e38f6ab0"
      },
      "source": [
        "#Загружаем обучающие тексты\n",
        "\n",
        "trainText = [] #Формируем обучающие тексты\n",
        "testText = [] #Формируем тестовые тексты\n",
        "\n",
        "#Формирование необходимо произвести следующим образом \n",
        "#Класс каждого i-ого эллемента в обучающей выборке должен соответствовать \n",
        "#классу каждого i-ого эллемента в тестовой выборке\n",
        "\n",
        "for i in className: \n",
        "  for j in os.listdir('texts/'): \n",
        "    if i in j: #Проверяем, содержит ли файл j в названии имя класса i\n",
        "      \n",
        "      if 'Обучающая' in j: \n",
        "        trainText.append(readText('texts/' + j)) #добавляем в обучающую выборку\n",
        "        print(j, 'добавлен в обучающую выборку') #Выводим информацию\n",
        "      if 'Тестовая' in j: \n",
        "        testText.append(readText('texts/' + j)) #добавляем в обучающую выборку\n",
        "        print(j, 'добавлен в тестовую выборку') #Выводим информацию\n",
        "  print()"
      ],
      "execution_count": null,
      "outputs": [
        {
          "output_type": "stream",
          "text": [
            "(О. Генри) Обучающая_50 вместе.txt добавлен в обучающую выборку\n",
            "(О. Генри) Тестовая_20 вместе.txt добавлен в тестовую выборку\n",
            "\n",
            "(Стругацкие) Обучающая_5 вместе.txt добавлен в обучающую выборку\n",
            "(Стругацкие) Тестовая_2 вместе.txt добавлен в тестовую выборку\n",
            "\n",
            "(Булгаков) Обучающая_5 вместе.txt добавлен в обучающую выборку\n",
            "(Булгаков) Тестовая_2 вместе.txt добавлен в тестовую выборку\n",
            "\n",
            "(Клиффорд_Саймак) Тестовая_2 вместе.txt добавлен в тестовую выборку\n",
            "(Клиффорд_Саймак) Обучающая_5 вместе.txt добавлен в обучающую выборку\n",
            "\n",
            "(Макс Фрай) Тестовая_2 вместе.txt добавлен в тестовую выборку\n",
            "(Макс Фрай) Обучающая_5 вместе.txt добавлен в обучающую выборку\n",
            "\n",
            "(Рэй Брэдберри) Тестовая_8 вместе.txt добавлен в тестовую выборку\n",
            "(Рэй Брэдберри) Обучающая_22 вместе.txt добавлен в обучающую выборку\n",
            "\n"
          ],
          "name": "stdout"
        }
      ]
    },
    {
      "cell_type": "code",
      "metadata": {
        "id": "_ZMHqMQ3y4Ya"
      },
      "source": [
        "# Формирование обучающей выборки по листу индексов слов\n",
        "def getSetFromIndexes(wordIndexes, xLen, step): # функция принимает последовательность индексов, размер окна, шаг окна\n",
        "  xSample = [] # Объявляем переменную для векторов\n",
        "  wordsLen = len(wordIndexes) # Считаем количество слов\n",
        "  index = 0 # Задаем начальный индекс \n",
        "\n",
        "  while (index + xLen <= wordsLen):# Идём по всей длине вектора индексов\n",
        "    xSample.append(wordIndexes[index:index+xLen]) # \"Откусываем\" векторы длины xLen\n",
        "    index += step # Смещаеммся вперёд на step\n",
        "    \n",
        "  return xSample"
      ],
      "execution_count": null,
      "outputs": []
    },
    {
      "cell_type": "code",
      "metadata": {
        "id": "hV2b3eIZy4Yd"
      },
      "source": [
        "# Формирование обучающей и проверочной выборки\n",
        "# Из двух листов индексов от двух классов\n",
        "def createSetsMultiClasses(wordIndexes, xLen, step): # Функция принимает последовательность индексов, размер окна, шаг окна\n",
        "\n",
        "  # Для каждого из 6 классов\n",
        "  # Создаём обучающую/проверочную выборку из индексов\n",
        "  nClasses = len(wordIndexes) # Задаем количество классов выборки\n",
        "  classesXSamples = []        # Здесь будет список размером \"кол-во классов*кол-во окон в тексте*длину окна (например, 6 по 1341*1000)\"\n",
        "  for wI in wordIndexes:      # Для каждого текста выборки из последовательности индексов\n",
        "    classesXSamples.append(getSetFromIndexes(wI, xLen, step)) # Добавляем в список очередной текст индексов, разбитый на \"кол-во окон*длину окна\" \n",
        "\n",
        "  # Формируем один общий xSamples\n",
        "  xSamples = [] # Здесь будет список размером \"суммарное кол-во окон во всех текстах*длину окна (например, 15779*1000)\"\n",
        "  ySamples = [] # Здесь будет список размером \"суммарное кол-во окон во всех текстах*вектор длиной 6\"\n",
        "  \n",
        "  for t in range(nClasses): # В диапазоне кол-ва классов(6)\n",
        "    xT = classesXSamples[t] # Берем очередной текст вида \"кол-во окон в тексте*длину окна\"(например, 1341*1000)\n",
        "    for i in range(len(xT)): # И каждое его окно\n",
        "      xSamples.append(xT[i]) # Добавляем в общий список выборки\n",
        "      ySamples.append(utils.to_categorical(t, nClasses)) # Добавляем соответствующий вектор класса\n",
        "\n",
        "  xSamples = np.array(xSamples) # Переводим в массив numpy для подачи в нейронку\n",
        "  ySamples = np.array(ySamples) # Переводим в массив numpy для подачи в нейронку\n",
        "\n",
        "  \n",
        "  return (xSamples, ySamples) #Функция возвращает выборку и соответствующие векторы классов"
      ],
      "execution_count": null,
      "outputs": []
    },
    {
      "cell_type": "markdown",
      "metadata": {
        "id": "ZDYa2ZzhqK0_"
      },
      "source": [
        "##Вариант 1"
      ]
    },
    {
      "cell_type": "markdown",
      "metadata": {
        "id": "_Xn2-buQqGFU"
      },
      "source": [
        "###Выполните задания, по каждому варианту напишите точность распознавания на проверочной выборке и сделайте выводы."
      ]
    },
    {
      "cell_type": "markdown",
      "metadata": {
        "id": "lW4H35hTqTpP"
      },
      "source": [
        "####Запустите нейронку c bag of words (01) при разных maxWordsCount"
      ]
    },
    {
      "cell_type": "markdown",
      "metadata": {
        "id": "3hHKbIRrqZVR"
      },
      "source": [
        "#####100"
      ]
    },
    {
      "cell_type": "code",
      "metadata": {
        "id": "dN4LsU2O0U9K"
      },
      "source": [
        "maxWordsCount = 100 # Определяем максимальное количество слов/индексов, учитываемое при обучении текстов\n",
        "tokenizer = Tokenizer(num_words=maxWordsCount, filters='!\"#$%&()*+,-–—./…:;<=>?@[\\\\]^_`{|}~«»\\t\\n\\xa0', lower=True, split=' ', oov_token='unknown', char_level=False)\n",
        "tokenizer.fit_on_texts(trainText) # \"Скармливаем\" наши тексты, т.е. даём в обработку методу, который соберет словарь частотности\n",
        "items = list(tokenizer.word_index.items()) # Вытаскиваем индексы слов для просмотра"
      ],
      "execution_count": null,
      "outputs": []
    },
    {
      "cell_type": "code",
      "metadata": {
        "id": "M4WipSwry4YU"
      },
      "source": [
        "# Преобразовываем текст в последовательность индексов согласно частотному словарю\n",
        "trainWordIndexes = tokenizer.texts_to_sequences(trainText) # Обучающие тесты в индексы\n",
        "testWordIndexes = tokenizer.texts_to_sequences(testText)  # Проверочные тесты в индексы"
      ],
      "execution_count": null,
      "outputs": []
    },
    {
      "cell_type": "code",
      "metadata": {
        "id": "XP6GpKtv1dDA"
      },
      "source": [
        "#Задаём базовые параметры\n",
        "xLen = 1000 #Длина отрезка текста, по которой анализируем, в словах\n",
        "step = 100 #Шаг разбиения исходного текста на обучающие векторы"
      ],
      "execution_count": null,
      "outputs": []
    },
    {
      "cell_type": "code",
      "metadata": {
        "id": "4lHy8hAa1dDI"
      },
      "source": [
        "xTrain, yTrain = createSetsMultiClasses(trainWordIndexes, xLen, step) #извлекаем обучающую выборку\n",
        "xTest, yTest = createSetsMultiClasses(testWordIndexes, xLen, step)    #извлекаем тестовую выборку"
      ],
      "execution_count": null,
      "outputs": []
    },
    {
      "cell_type": "code",
      "metadata": {
        "id": "oVfoUAdG1jBy"
      },
      "source": [
        "xTrain01 = tokenizer.sequences_to_matrix(xTrain.tolist()) #Подаем xTrain в виде списка, чтобы метод успешно сработал\n",
        "xTest01 = tokenizer.sequences_to_matrix(xTest.tolist()) # Подаем xTest в виде списка, чтобы метод успешно сработал"
      ],
      "execution_count": null,
      "outputs": []
    },
    {
      "cell_type": "code",
      "metadata": {
        "id": "bRHQVSEAza_u",
        "colab": {
          "base_uri": "https://localhost:8080/",
          "height": 928
        },
        "outputId": "aeff6284-2557-4c44-8b5a-3b26fee00545"
      },
      "source": [
        "model01 = Sequential()\n",
        "#Первый полносвязный слой\n",
        "model01.add(Dense(200, input_dim=maxWordsCount, activation=\"relu\"))\n",
        "#Слой регуляризации Dropout\n",
        "model01.add(Dropout(0.25))\n",
        "#Слой пакетной нормализации\n",
        "model01.add(BatchNormalization())\n",
        "#Выходной полносвязный слой\n",
        "model01.add(Dense(6, activation='sigmoid'))\n",
        "\n",
        "model01.compile(optimizer='adam', \n",
        "              loss='categorical_crossentropy', \n",
        "              metrics=['accuracy'])\n",
        "\n",
        "#Обучаем сеть на выборке, сформированной по bag of words - xTrain01\n",
        "history = model01.fit(xTrain01, \n",
        "                      yTrain, \n",
        "                      epochs=20,\n",
        "                      batch_size=128,\n",
        "                      validation_data=(xTest01, yTest))\n",
        "\n",
        "plt.plot(history.history['accuracy'], \n",
        "         label='Доля верных ответов на обучающем наборе')\n",
        "plt.plot(history.history['val_accuracy'], \n",
        "         label='Доля верных ответов на проверочном наборе')\n",
        "plt.xlabel('Эпоха обучения')\n",
        "plt.ylabel('Доля верных ответов')\n",
        "plt.legend()\n",
        "plt.show()"
      ],
      "execution_count": null,
      "outputs": [
        {
          "output_type": "stream",
          "text": [
            "Epoch 1/20\n",
            "138/138 [==============================] - 1s 4ms/step - loss: 1.3282 - accuracy: 0.5418 - val_loss: 1.3660 - val_accuracy: 0.5106\n",
            "Epoch 2/20\n",
            "138/138 [==============================] - 0s 3ms/step - loss: 0.9081 - accuracy: 0.6747 - val_loss: 1.2824 - val_accuracy: 0.5102\n",
            "Epoch 3/20\n",
            "138/138 [==============================] - 0s 3ms/step - loss: 0.7509 - accuracy: 0.7210 - val_loss: 1.2904 - val_accuracy: 0.5329\n",
            "Epoch 4/20\n",
            "138/138 [==============================] - 0s 3ms/step - loss: 0.6604 - accuracy: 0.7536 - val_loss: 1.5132 - val_accuracy: 0.4976\n",
            "Epoch 5/20\n",
            "138/138 [==============================] - 0s 3ms/step - loss: 0.5988 - accuracy: 0.7772 - val_loss: 1.5117 - val_accuracy: 0.5093\n",
            "Epoch 6/20\n",
            "138/138 [==============================] - 0s 3ms/step - loss: 0.5511 - accuracy: 0.7963 - val_loss: 1.5702 - val_accuracy: 0.5007\n",
            "Epoch 7/20\n",
            "138/138 [==============================] - 0s 3ms/step - loss: 0.5028 - accuracy: 0.8160 - val_loss: 1.6539 - val_accuracy: 0.5016\n",
            "Epoch 8/20\n",
            "138/138 [==============================] - 0s 3ms/step - loss: 0.4742 - accuracy: 0.8269 - val_loss: 1.5851 - val_accuracy: 0.5105\n",
            "Epoch 9/20\n",
            "138/138 [==============================] - 0s 3ms/step - loss: 0.4414 - accuracy: 0.8387 - val_loss: 1.7042 - val_accuracy: 0.5040\n",
            "Epoch 10/20\n",
            "138/138 [==============================] - 0s 3ms/step - loss: 0.4174 - accuracy: 0.8473 - val_loss: 1.8092 - val_accuracy: 0.4809\n",
            "Epoch 11/20\n",
            "138/138 [==============================] - 0s 3ms/step - loss: 0.4015 - accuracy: 0.8532 - val_loss: 1.7907 - val_accuracy: 0.4948\n",
            "Epoch 12/20\n",
            "138/138 [==============================] - 0s 3ms/step - loss: 0.3742 - accuracy: 0.8617 - val_loss: 1.8107 - val_accuracy: 0.4966\n",
            "Epoch 13/20\n",
            "138/138 [==============================] - 0s 3ms/step - loss: 0.3642 - accuracy: 0.8677 - val_loss: 1.9410 - val_accuracy: 0.4774\n",
            "Epoch 14/20\n",
            "138/138 [==============================] - 0s 3ms/step - loss: 0.3398 - accuracy: 0.8753 - val_loss: 1.9641 - val_accuracy: 0.4838\n",
            "Epoch 15/20\n",
            "138/138 [==============================] - 0s 3ms/step - loss: 0.3357 - accuracy: 0.8767 - val_loss: 2.0432 - val_accuracy: 0.4768\n",
            "Epoch 16/20\n",
            "138/138 [==============================] - 0s 3ms/step - loss: 0.3190 - accuracy: 0.8816 - val_loss: 2.0746 - val_accuracy: 0.4801\n",
            "Epoch 17/20\n",
            "138/138 [==============================] - 0s 3ms/step - loss: 0.3035 - accuracy: 0.8900 - val_loss: 1.9479 - val_accuracy: 0.4859\n",
            "Epoch 18/20\n",
            "138/138 [==============================] - 0s 3ms/step - loss: 0.2948 - accuracy: 0.8930 - val_loss: 2.0616 - val_accuracy: 0.5003\n",
            "Epoch 19/20\n",
            "138/138 [==============================] - 0s 3ms/step - loss: 0.2841 - accuracy: 0.8974 - val_loss: 2.1005 - val_accuracy: 0.4810\n",
            "Epoch 20/20\n",
            "138/138 [==============================] - 0s 3ms/step - loss: 0.2795 - accuracy: 0.8978 - val_loss: 2.1443 - val_accuracy: 0.5031\n"
          ],
          "name": "stdout"
        },
        {
          "output_type": "display_data",
          "data": {
            "image/png": "[encoded data removed]",
            "text/plain": [
              "<Figure size 432x288 with 1 Axes>"
            ]
          },
          "metadata": {
            "tags": [],
            "needs_background": "light"
          }
        }
      ]
    },
    {
      "cell_type": "markdown",
      "metadata": {
        "id": "jXOKhJ-Rqzoa"
      },
      "source": [
        "#####1000"
      ]
    },
    {
      "cell_type": "code",
      "metadata": {
        "id": "2Tdsf_zh12H_"
      },
      "source": [
        "maxWordsCount = 1000 # Определяем максимальное количество слов/индексов, учитываемое при обучении текстов\n",
        "tokenizer = Tokenizer(num_words=maxWordsCount, filters='!\"#$%&()*+,-–—./…:;<=>?@[\\\\]^_`{|}~«»\\t\\n\\xa0', lower=True, split=' ', oov_token='unknown', char_level=False)\n",
        "tokenizer.fit_on_texts(trainText) # \"Скармливаем\" наши тексты, т.е. даём в обработку методу, который соберет словарь частотности\n",
        "items = list(tokenizer.word_index.items()) # Вытаскиваем индексы слов для просмотра"
      ],
      "execution_count": null,
      "outputs": []
    },
    {
      "cell_type": "code",
      "metadata": {
        "id": "2Ki3AFSM12IJ"
      },
      "source": [
        "xTrain, yTrain = createSetsMultiClasses(trainWordIndexes, xLen, step) #извлекаем обучающую выборку\n",
        "xTest, yTest = createSetsMultiClasses(testWordIndexes, xLen, step)    #извлекаем тестовую выборку"
      ],
      "execution_count": null,
      "outputs": []
    },
    {
      "cell_type": "code",
      "metadata": {
        "id": "ZsLlpB_I12IN"
      },
      "source": [
        "xTrain01 = tokenizer.sequences_to_matrix(xTrain.tolist()) #Подаем xTrain в виде списка, чтобы метод успешно сработал\n",
        "xTest01 = tokenizer.sequences_to_matrix(xTest.tolist()) # Подаем xTest в виде списка, чтобы метод успешно сработал"
      ],
      "execution_count": null,
      "outputs": []
    },
    {
      "cell_type": "code",
      "metadata": {
        "id": "hRJkxf8312IQ",
        "colab": {
          "base_uri": "https://localhost:8080/",
          "height": 928
        },
        "outputId": "4b8b3df6-6d26-4dc2-fd5d-9ab9770f88f1"
      },
      "source": [
        "model01 = Sequential()\n",
        "#Первый полносвязный слой\n",
        "model01.add(Dense(200, input_dim=maxWordsCount, activation=\"relu\"))\n",
        "#Слой регуляризации Dropout\n",
        "model01.add(Dropout(0.25))\n",
        "#Слой пакетной нормализации\n",
        "model01.add(BatchNormalization())\n",
        "#Выходной полносвязный слой\n",
        "model01.add(Dense(6, activation='sigmoid'))\n",
        "\n",
        "model01.compile(optimizer='adam', \n",
        "              loss='categorical_crossentropy', \n",
        "              metrics=['accuracy'])\n",
        "\n",
        "#Обучаем сеть на выборке, сформированной по bag of words - xTrain01\n",
        "history = model01.fit(xTrain01, \n",
        "                      yTrain, \n",
        "                      epochs=20,\n",
        "                      batch_size=128,\n",
        "                      validation_data=(xTest01, yTest))\n",
        "\n",
        "plt.plot(history.history['accuracy'], \n",
        "         label='Доля верных ответов на обучающем наборе')\n",
        "plt.plot(history.history['val_accuracy'], \n",
        "         label='Доля верных ответов на проверочном наборе')\n",
        "plt.xlabel('Эпоха обучения')\n",
        "plt.ylabel('Доля верных ответов')\n",
        "plt.legend()\n",
        "plt.show()"
      ],
      "execution_count": null,
      "outputs": [
        {
          "output_type": "stream",
          "text": [
            "Epoch 1/20\n",
            "138/138 [==============================] - 1s 5ms/step - loss: 0.7501 - accuracy: 0.8838 - val_loss: 0.7991 - val_accuracy: 0.7018\n",
            "Epoch 2/20\n",
            "138/138 [==============================] - 1s 5ms/step - loss: 0.1599 - accuracy: 0.9329 - val_loss: 0.5415 - val_accuracy: 0.8029\n",
            "Epoch 3/20\n",
            "138/138 [==============================] - 1s 4ms/step - loss: 0.0515 - accuracy: 0.9756 - val_loss: 0.4474 - val_accuracy: 0.8504\n",
            "Epoch 4/20\n",
            "138/138 [==============================] - 1s 4ms/step - loss: 0.0067 - accuracy: 0.9999 - val_loss: 0.4802 - val_accuracy: 0.8328\n",
            "Epoch 5/20\n",
            "138/138 [==============================] - 1s 5ms/step - loss: 0.0033 - accuracy: 0.9999 - val_loss: 0.5228 - val_accuracy: 0.8265\n",
            "Epoch 6/20\n",
            "138/138 [==============================] - 1s 5ms/step - loss: 0.0019 - accuracy: 1.0000 - val_loss: 0.4998 - val_accuracy: 0.8323\n",
            "Epoch 7/20\n",
            "138/138 [==============================] - 1s 5ms/step - loss: 0.0015 - accuracy: 1.0000 - val_loss: 0.5077 - val_accuracy: 0.8334\n",
            "Epoch 8/20\n",
            "138/138 [==============================] - 1s 5ms/step - loss: 0.0011 - accuracy: 1.0000 - val_loss: 0.4918 - val_accuracy: 0.8410\n",
            "Epoch 9/20\n",
            "138/138 [==============================] - 1s 5ms/step - loss: 8.2234e-04 - accuracy: 1.0000 - val_loss: 0.4942 - val_accuracy: 0.8398\n",
            "Epoch 10/20\n",
            "138/138 [==============================] - 1s 5ms/step - loss: 7.1710e-04 - accuracy: 1.0000 - val_loss: 0.5125 - val_accuracy: 0.8365\n",
            "Epoch 11/20\n",
            "138/138 [==============================] - 1s 5ms/step - loss: 5.5553e-04 - accuracy: 1.0000 - val_loss: 0.5055 - val_accuracy: 0.8412\n",
            "Epoch 12/20\n",
            "138/138 [==============================] - 1s 5ms/step - loss: 4.5472e-04 - accuracy: 1.0000 - val_loss: 0.5345 - val_accuracy: 0.8347\n",
            "Epoch 13/20\n",
            "138/138 [==============================] - 1s 5ms/step - loss: 4.0659e-04 - accuracy: 1.0000 - val_loss: 0.5071 - val_accuracy: 0.8427\n",
            "Epoch 14/20\n",
            "138/138 [==============================] - 1s 5ms/step - loss: 3.1459e-04 - accuracy: 1.0000 - val_loss: 0.5330 - val_accuracy: 0.8364\n",
            "Epoch 15/20\n",
            "138/138 [==============================] - 1s 5ms/step - loss: 2.9720e-04 - accuracy: 1.0000 - val_loss: 0.5092 - val_accuracy: 0.8406\n",
            "Epoch 16/20\n",
            "138/138 [==============================] - 1s 5ms/step - loss: 2.5692e-04 - accuracy: 1.0000 - val_loss: 0.5093 - val_accuracy: 0.8456\n",
            "Epoch 17/20\n",
            "138/138 [==============================] - 1s 5ms/step - loss: 2.5998e-04 - accuracy: 1.0000 - val_loss: 0.5247 - val_accuracy: 0.8421\n",
            "Epoch 18/20\n",
            "138/138 [==============================] - 1s 5ms/step - loss: 1.9809e-04 - accuracy: 1.0000 - val_loss: 0.5076 - val_accuracy: 0.8443\n",
            "Epoch 19/20\n",
            "138/138 [==============================] - 1s 5ms/step - loss: 2.2172e-04 - accuracy: 1.0000 - val_loss: 0.5081 - val_accuracy: 0.8401\n",
            "Epoch 20/20\n",
            "138/138 [==============================] - 1s 4ms/step - loss: 1.5336e-04 - accuracy: 1.0000 - val_loss: 0.5013 - val_accuracy: 0.8500\n"
          ],
          "name": "stdout"
        },
        {
          "output_type": "display_data",
          "data": {
            "image/png": "[encoded data removed]",
            "text/plain": [
              "<Figure size 432x288 with 1 Axes>"
            ]
          },
          "metadata": {
            "tags": [],
            "needs_background": "light"
          }
        }
      ]
    },
    {
      "cell_type": "markdown",
      "metadata": {
        "id": "Qi-CdhaVq103"
      },
      "source": [
        "#####10000"
      ]
    },
    {
      "cell_type": "code",
      "metadata": {
        "id": "C1hPBJTo1-mg"
      },
      "source": [
        "maxWordsCount = 10000 # Определяем максимальное количество слов/индексов, учитываемое при обучении текстов\n",
        "tokenizer = Tokenizer(num_words=maxWordsCount, filters='!\"#$%&()*+,-–—./…:;<=>?@[\\\\]^_`{|}~«»\\t\\n\\xa0', lower=True, split=' ', oov_token='unknown', char_level=False)\n",
        "tokenizer.fit_on_texts(trainText) # \"Скармливаем\" наши тексты, т.е. даём в обработку методу, который соберет словарь частотности\n",
        "items = list(tokenizer.word_index.items()) # Вытаскиваем индексы слов для просмотра"
      ],
      "execution_count": null,
      "outputs": []
    },
    {
      "cell_type": "code",
      "metadata": {
        "id": "Smg6j4sy1-mp"
      },
      "source": [
        "xTrain, yTrain = createSetsMultiClasses(trainWordIndexes, xLen, step) #извлекаем обучающую выборку\n",
        "xTest, yTest = createSetsMultiClasses(testWordIndexes, xLen, step)    #извлекаем тестовую выборку"
      ],
      "execution_count": null,
      "outputs": []
    },
    {
      "cell_type": "code",
      "metadata": {
        "id": "C2pjt7bT1-ms"
      },
      "source": [
        "xTrain01 = tokenizer.sequences_to_matrix(xTrain.tolist()) #Подаем xTrain в виде списка, чтобы метод успешно сработал\n",
        "xTest01 = tokenizer.sequences_to_matrix(xTest.tolist()) # Подаем xTest в виде списка, чтобы метод успешно сработал"
      ],
      "execution_count": null,
      "outputs": []
    },
    {
      "cell_type": "code",
      "metadata": {
        "id": "AUTQsXAX1-mv",
        "colab": {
          "base_uri": "https://localhost:8080/",
          "height": 928
        },
        "outputId": "9928fe8c-e6a0-4963-c9b0-f44360637154"
      },
      "source": [
        "model01 = Sequential()\n",
        "#Первый полносвязный слой\n",
        "model01.add(Dense(200, input_dim=maxWordsCount, activation=\"relu\"))\n",
        "#Слой регуляризации Dropout\n",
        "model01.add(Dropout(0.25))\n",
        "#Слой пакетной нормализации\n",
        "model01.add(BatchNormalization())\n",
        "#Выходной полносвязный слой\n",
        "model01.add(Dense(6, activation='sigmoid'))\n",
        "\n",
        "model01.compile(optimizer='adam', \n",
        "              loss='categorical_crossentropy', \n",
        "              metrics=['accuracy'])\n",
        "\n",
        "#Обучаем сеть на выборке, сформированной по bag of words - xTrain01\n",
        "history = model01.fit(xTrain01, \n",
        "                      yTrain, \n",
        "                      epochs=20,\n",
        "                      batch_size=128,\n",
        "                      validation_data=(xTest01, yTest))\n",
        "\n",
        "plt.plot(history.history['accuracy'], \n",
        "         label='Доля верных ответов на обучающем наборе')\n",
        "plt.plot(history.history['val_accuracy'], \n",
        "         label='Доля верных ответов на проверочном наборе')\n",
        "plt.xlabel('Эпоха обучения')\n",
        "plt.ylabel('Доля верных ответов')\n",
        "plt.legend()\n",
        "plt.show()"
      ],
      "execution_count": null,
      "outputs": [
        {
          "output_type": "stream",
          "text": [
            "Epoch 1/20\n",
            "138/138 [==============================] - 3s 19ms/step - loss: 0.4381 - accuracy: 0.9403 - val_loss: 0.5743 - val_accuracy: 0.8609\n",
            "Epoch 2/20\n",
            "138/138 [==============================] - 2s 18ms/step - loss: 0.0923 - accuracy: 0.9278 - val_loss: 0.4124 - val_accuracy: 0.8652\n",
            "Epoch 3/20\n",
            "138/138 [==============================] - 2s 18ms/step - loss: 0.0645 - accuracy: 0.9272 - val_loss: 0.3662 - val_accuracy: 0.8745\n",
            "Epoch 4/20\n",
            "138/138 [==============================] - 2s 18ms/step - loss: 0.0556 - accuracy: 0.9366 - val_loss: 0.3465 - val_accuracy: 0.8765\n",
            "Epoch 5/20\n",
            "138/138 [==============================] - 2s 18ms/step - loss: 0.0438 - accuracy: 0.9510 - val_loss: 0.3203 - val_accuracy: 0.8859\n",
            "Epoch 6/20\n",
            "138/138 [==============================] - 2s 18ms/step - loss: 0.0151 - accuracy: 0.9922 - val_loss: 0.3251 - val_accuracy: 0.8827\n",
            "Epoch 7/20\n",
            "138/138 [==============================] - 2s 18ms/step - loss: 0.0016 - accuracy: 1.0000 - val_loss: 0.3151 - val_accuracy: 0.8899\n",
            "Epoch 8/20\n",
            "138/138 [==============================] - 2s 18ms/step - loss: 9.8319e-04 - accuracy: 1.0000 - val_loss: 0.3213 - val_accuracy: 0.8881\n",
            "Epoch 9/20\n",
            "138/138 [==============================] - 2s 18ms/step - loss: 6.6164e-04 - accuracy: 1.0000 - val_loss: 0.3211 - val_accuracy: 0.8892\n",
            "Epoch 10/20\n",
            "138/138 [==============================] - 2s 18ms/step - loss: 5.4881e-04 - accuracy: 1.0000 - val_loss: 0.3262 - val_accuracy: 0.8892\n",
            "Epoch 11/20\n",
            "138/138 [==============================] - 2s 18ms/step - loss: 3.7975e-04 - accuracy: 1.0000 - val_loss: 0.3327 - val_accuracy: 0.8883\n",
            "Epoch 12/20\n",
            "138/138 [==============================] - 2s 18ms/step - loss: 3.2439e-04 - accuracy: 1.0000 - val_loss: 0.3311 - val_accuracy: 0.8892\n",
            "Epoch 13/20\n",
            "138/138 [==============================] - 2s 18ms/step - loss: 2.8506e-04 - accuracy: 1.0000 - val_loss: 0.3368 - val_accuracy: 0.8884\n",
            "Epoch 14/20\n",
            "138/138 [==============================] - 2s 18ms/step - loss: 2.2576e-04 - accuracy: 1.0000 - val_loss: 0.3469 - val_accuracy: 0.8866\n",
            "Epoch 15/20\n",
            "138/138 [==============================] - 2s 18ms/step - loss: 1.9141e-04 - accuracy: 1.0000 - val_loss: 0.3466 - val_accuracy: 0.8862\n",
            "Epoch 16/20\n",
            "138/138 [==============================] - 2s 18ms/step - loss: 1.5720e-04 - accuracy: 1.0000 - val_loss: 0.3479 - val_accuracy: 0.8865\n",
            "Epoch 17/20\n",
            "138/138 [==============================] - 2s 18ms/step - loss: 1.3707e-04 - accuracy: 1.0000 - val_loss: 0.3457 - val_accuracy: 0.8874\n",
            "Epoch 18/20\n",
            "138/138 [==============================] - 2s 18ms/step - loss: 1.2652e-04 - accuracy: 1.0000 - val_loss: 0.3484 - val_accuracy: 0.8871\n",
            "Epoch 19/20\n",
            "138/138 [==============================] - 2s 18ms/step - loss: 1.0545e-04 - accuracy: 1.0000 - val_loss: 0.3492 - val_accuracy: 0.8877\n",
            "Epoch 20/20\n",
            "138/138 [==============================] - 2s 18ms/step - loss: 9.0988e-05 - accuracy: 1.0000 - val_loss: 0.3475 - val_accuracy: 0.8890\n"
          ],
          "name": "stdout"
        },
        {
          "output_type": "display_data",
          "data": {
            "image/png": "[encoded data removed]",
            "text/plain": [
              "<Figure size 432x288 with 1 Axes>"
            ]
          },
          "metadata": {
            "tags": [],
            "needs_background": "light"
          }
        }
      ]
    },
    {
      "cell_type": "markdown",
      "metadata": {
        "id": "UP_pm0z-q3eC"
      },
      "source": [
        "#####50000"
      ]
    },
    {
      "cell_type": "code",
      "metadata": {
        "id": "dSTLcz2m2EW1"
      },
      "source": [
        "maxWordsCount = 50000 # Определяем максимальное количество слов/индексов, учитываемое при обучении текстов\n",
        "tokenizer = Tokenizer(num_words=maxWordsCount, filters='!\"#$%&()*+,-–—./…:;<=>?@[\\\\]^_`{|}~«»\\t\\n\\xa0', lower=True, split=' ', oov_token='unknown', char_level=False)\n",
        "tokenizer.fit_on_texts(trainText) # \"Скармливаем\" наши тексты, т.е. даём в обработку методу, который соберет словарь частотности\n",
        "items = list(tokenizer.word_index.items()) # Вытаскиваем индексы слов для просмотра"
      ],
      "execution_count": null,
      "outputs": []
    },
    {
      "cell_type": "code",
      "metadata": {
        "id": "LsErxH_H2EW8"
      },
      "source": [
        "xTrain, yTrain = createSetsMultiClasses(trainWordIndexes, xLen, step) #извлекаем обучающую выборку\n",
        "xTest, yTest = createSetsMultiClasses(testWordIndexes, xLen, step)    #извлекаем тестовую выборку"
      ],
      "execution_count": null,
      "outputs": []
    },
    {
      "cell_type": "code",
      "metadata": {
        "id": "5nObhTJ72EW_"
      },
      "source": [
        "xTrain01 = tokenizer.sequences_to_matrix(xTrain.tolist()) #Подаем xTrain в виде списка, чтобы метод успешно сработал\n",
        "xTest01 = tokenizer.sequences_to_matrix(xTest.tolist()) # Подаем xTest в виде списка, чтобы метод успешно сработал"
      ],
      "execution_count": null,
      "outputs": []
    },
    {
      "cell_type": "code",
      "metadata": {
        "id": "nFF-fswa2EXB",
        "colab": {
          "base_uri": "https://localhost:8080/",
          "height": 928
        },
        "outputId": "fafbf7e2-c210-4920-afb7-7d34ffc04cf8"
      },
      "source": [
        "model01 = Sequential()\n",
        "#Первый полносвязный слой\n",
        "model01.add(Dense(200, input_dim=maxWordsCount, activation=\"relu\"))\n",
        "#Слой регуляризации Dropout\n",
        "model01.add(Dropout(0.25))\n",
        "#Слой пакетной нормализации\n",
        "model01.add(BatchNormalization())\n",
        "#Выходной полносвязный слой\n",
        "model01.add(Dense(6, activation='sigmoid'))\n",
        "\n",
        "model01.compile(optimizer='adam', \n",
        "              loss='categorical_crossentropy', \n",
        "              metrics=['accuracy'])\n",
        "\n",
        "#Обучаем сеть на выборке, сформированной по bag of words - xTrain01\n",
        "history = model01.fit(xTrain01, \n",
        "                      yTrain, \n",
        "                      epochs=20,\n",
        "                      batch_size=128,\n",
        "                      validation_data=(xTest01, yTest))\n",
        "\n",
        "plt.plot(history.history['accuracy'], \n",
        "         label='Доля верных ответов на обучающем наборе')\n",
        "plt.plot(history.history['val_accuracy'], \n",
        "         label='Доля верных ответов на проверочном наборе')\n",
        "plt.xlabel('Эпоха обучения')\n",
        "plt.ylabel('Доля верных ответов')\n",
        "plt.legend()\n",
        "plt.show()"
      ],
      "execution_count": null,
      "outputs": [
        {
          "output_type": "stream",
          "text": [
            "Epoch 1/20\n",
            "138/138 [==============================] - 11s 77ms/step - loss: 0.4115 - accuracy: 0.9594 - val_loss: 0.6202 - val_accuracy: 0.8433\n",
            "Epoch 2/20\n",
            "138/138 [==============================] - 10s 73ms/step - loss: 0.0999 - accuracy: 0.9329 - val_loss: 0.4475 - val_accuracy: 0.8690\n",
            "Epoch 3/20\n",
            "138/138 [==============================] - 10s 73ms/step - loss: 0.0642 - accuracy: 0.9348 - val_loss: 0.4005 - val_accuracy: 0.8757\n",
            "Epoch 4/20\n",
            "138/138 [==============================] - 10s 74ms/step - loss: 0.0561 - accuracy: 0.9354 - val_loss: 0.3873 - val_accuracy: 0.8812\n",
            "Epoch 5/20\n",
            "138/138 [==============================] - 10s 73ms/step - loss: 0.0478 - accuracy: 0.9535 - val_loss: 0.3136 - val_accuracy: 0.8941\n",
            "Epoch 6/20\n",
            "138/138 [==============================] - 10s 73ms/step - loss: 0.0136 - accuracy: 0.9929 - val_loss: 0.2812 - val_accuracy: 0.9053\n",
            "Epoch 7/20\n",
            "138/138 [==============================] - 10s 74ms/step - loss: 0.0014 - accuracy: 1.0000 - val_loss: 0.2800 - val_accuracy: 0.9059\n",
            "Epoch 8/20\n",
            "138/138 [==============================] - 10s 73ms/step - loss: 8.8015e-04 - accuracy: 1.0000 - val_loss: 0.2750 - val_accuracy: 0.9068\n",
            "Epoch 9/20\n",
            "138/138 [==============================] - 10s 73ms/step - loss: 5.8806e-04 - accuracy: 1.0000 - val_loss: 0.2715 - val_accuracy: 0.9092\n",
            "Epoch 10/20\n",
            "138/138 [==============================] - 10s 73ms/step - loss: 4.4166e-04 - accuracy: 1.0000 - val_loss: 0.2698 - val_accuracy: 0.9110\n",
            "Epoch 11/20\n",
            "138/138 [==============================] - 10s 73ms/step - loss: 3.2551e-04 - accuracy: 1.0000 - val_loss: 0.2723 - val_accuracy: 0.9104\n",
            "Epoch 12/20\n",
            "138/138 [==============================] - 10s 74ms/step - loss: 2.7329e-04 - accuracy: 1.0000 - val_loss: 0.2773 - val_accuracy: 0.9098\n",
            "Epoch 13/20\n",
            "138/138 [==============================] - 10s 74ms/step - loss: 2.1678e-04 - accuracy: 1.0000 - val_loss: 0.2753 - val_accuracy: 0.9107\n",
            "Epoch 14/20\n",
            "138/138 [==============================] - 10s 73ms/step - loss: 1.8301e-04 - accuracy: 1.0000 - val_loss: 0.2748 - val_accuracy: 0.9121\n",
            "Epoch 15/20\n",
            "138/138 [==============================] - 10s 74ms/step - loss: 1.6470e-04 - accuracy: 1.0000 - val_loss: 0.2795 - val_accuracy: 0.9098\n",
            "Epoch 16/20\n",
            "138/138 [==============================] - 10s 73ms/step - loss: 1.4541e-04 - accuracy: 1.0000 - val_loss: 0.2753 - val_accuracy: 0.9124\n",
            "Epoch 17/20\n",
            "138/138 [==============================] - 10s 73ms/step - loss: 1.1852e-04 - accuracy: 1.0000 - val_loss: 0.2773 - val_accuracy: 0.9121\n",
            "Epoch 18/20\n",
            "138/138 [==============================] - 10s 75ms/step - loss: 9.7377e-05 - accuracy: 1.0000 - val_loss: 0.2792 - val_accuracy: 0.9112\n",
            "Epoch 19/20\n",
            "138/138 [==============================] - 10s 75ms/step - loss: 8.7793e-05 - accuracy: 1.0000 - val_loss: 0.2777 - val_accuracy: 0.9121\n",
            "Epoch 20/20\n",
            "138/138 [==============================] - 10s 73ms/step - loss: 9.1071e-05 - accuracy: 1.0000 - val_loss: 0.2758 - val_accuracy: 0.9133\n"
          ],
          "name": "stdout"
        },
        {
          "output_type": "display_data",
          "data": {
            "image/png": "[encoded data removed]",
            "text/plain": [
              "<Figure size 432x288 with 1 Axes>"
            ]
          },
          "metadata": {
            "tags": [],
            "needs_background": "light"
          }
        }
      ]
    },
    {
      "cell_type": "markdown",
      "metadata": {
        "id": "yai75gh7qca_"
      },
      "source": [
        "####Запустите нейронку c bag of words (01) при maxWordsCount = 20000 и разных архитектурах"
      ]
    },
    {
      "cell_type": "code",
      "metadata": {
        "id": "JuzxDw7-2Mwf"
      },
      "source": [
        "maxWordsCount = 20000 # Определяем максимальное количество слов/индексов, учитываемое при обучении текстов\n",
        "tokenizer = Tokenizer(num_words=maxWordsCount, filters='!\"#$%&()*+,-–—./…:;<=>?@[\\\\]^_`{|}~«»\\t\\n\\xa0', lower=True, split=' ', oov_token='unknown', char_level=False)\n",
        "tokenizer.fit_on_texts(trainText) # \"Скармливаем\" наши тексты, т.е. даём в обработку методу, который соберет словарь частотности\n",
        "items = list(tokenizer.word_index.items()) # Вытаскиваем индексы слов для просмотра"
      ],
      "execution_count": null,
      "outputs": []
    },
    {
      "cell_type": "code",
      "metadata": {
        "id": "1mZQbbAx2Mwl"
      },
      "source": [
        "xTrain, yTrain = createSetsMultiClasses(trainWordIndexes, xLen, step) #извлекаем обучающую выборку\n",
        "xTest, yTest = createSetsMultiClasses(testWordIndexes, xLen, step)    #извлекаем тестовую выборку"
      ],
      "execution_count": null,
      "outputs": []
    },
    {
      "cell_type": "code",
      "metadata": {
        "id": "5B3Pms9l2Mwo"
      },
      "source": [
        "xTrain01 = tokenizer.sequences_to_matrix(xTrain.tolist()) #Подаем xTrain в виде списка, чтобы метод успешно сработал\n",
        "xTest01 = tokenizer.sequences_to_matrix(xTest.tolist()) # Подаем xTest в виде списка, чтобы метод успешно сработал"
      ],
      "execution_count": null,
      "outputs": []
    },
    {
      "cell_type": "markdown",
      "metadata": {
        "id": "Cof7OqO1qgUa"
      },
      "source": [
        "#####Поменяйте количество нейронов в слоях"
      ]
    },
    {
      "cell_type": "markdown",
      "metadata": {
        "id": "b_NKd9XL2jQl"
      },
      "source": [
        "######10"
      ]
    },
    {
      "cell_type": "code",
      "metadata": {
        "id": "zysGnLz_2eF0",
        "colab": {
          "base_uri": "https://localhost:8080/",
          "height": 928
        },
        "outputId": "2cbdb3cc-d953-4a41-8ed8-7829519e7ed7"
      },
      "source": [
        "model01 = Sequential()\n",
        "#Первый полносвязный слой\n",
        "model01.add(Dense(10, input_dim=maxWordsCount, activation=\"relu\"))\n",
        "#Слой регуляризации Dropout\n",
        "model01.add(Dropout(0.25))\n",
        "#Слой пакетной нормализации\n",
        "model01.add(BatchNormalization())\n",
        "#Выходной полносвязный слой\n",
        "model01.add(Dense(6, activation='sigmoid'))\n",
        "\n",
        "model01.compile(optimizer='adam', \n",
        "              loss='categorical_crossentropy', \n",
        "              metrics=['accuracy'])\n",
        "\n",
        "#Обучаем сеть на выборке, сформированной по bag of words - xTrain01\n",
        "history = model01.fit(xTrain01, \n",
        "                      yTrain, \n",
        "                      epochs=20,\n",
        "                      batch_size=128,\n",
        "                      validation_data=(xTest01, yTest))\n",
        "\n",
        "plt.plot(history.history['accuracy'], \n",
        "         label='Доля верных ответов на обучающем наборе')\n",
        "plt.plot(history.history['val_accuracy'], \n",
        "         label='Доля верных ответов на проверочном наборе')\n",
        "plt.xlabel('Эпоха обучения')\n",
        "plt.ylabel('Доля верных ответов')\n",
        "plt.legend()\n",
        "plt.show()"
      ],
      "execution_count": null,
      "outputs": [
        {
          "output_type": "stream",
          "text": [
            "Epoch 1/20\n",
            "138/138 [==============================] - 2s 12ms/step - loss: 1.1526 - accuracy: 0.8516 - val_loss: 1.2001 - val_accuracy: 0.8470\n",
            "Epoch 2/20\n",
            "138/138 [==============================] - 1s 10ms/step - loss: 0.8553 - accuracy: 0.9009 - val_loss: 1.0004 - val_accuracy: 0.8347\n",
            "Epoch 3/20\n",
            "138/138 [==============================] - 1s 10ms/step - loss: 0.5951 - accuracy: 0.8844 - val_loss: 0.7966 - val_accuracy: 0.8129\n",
            "Epoch 4/20\n",
            "138/138 [==============================] - 1s 10ms/step - loss: 0.4187 - accuracy: 0.8789 - val_loss: 0.6561 - val_accuracy: 0.7912\n",
            "Epoch 5/20\n",
            "138/138 [==============================] - 1s 10ms/step - loss: 0.3236 - accuracy: 0.8811 - val_loss: 0.5910 - val_accuracy: 0.7999\n",
            "Epoch 6/20\n",
            "138/138 [==============================] - 1s 10ms/step - loss: 0.2691 - accuracy: 0.8853 - val_loss: 0.5629 - val_accuracy: 0.7876\n",
            "Epoch 7/20\n",
            "138/138 [==============================] - 1s 10ms/step - loss: 0.2362 - accuracy: 0.9086 - val_loss: 0.5222 - val_accuracy: 0.8095\n",
            "Epoch 8/20\n",
            "138/138 [==============================] - 1s 10ms/step - loss: 0.2038 - accuracy: 0.9303 - val_loss: 0.4647 - val_accuracy: 0.8760\n",
            "Epoch 9/20\n",
            "138/138 [==============================] - 1s 10ms/step - loss: 0.1578 - accuracy: 0.9585 - val_loss: 0.4780 - val_accuracy: 0.8456\n",
            "Epoch 10/20\n",
            "138/138 [==============================] - 1s 10ms/step - loss: 0.1318 - accuracy: 0.9680 - val_loss: 0.4511 - val_accuracy: 0.8557\n",
            "Epoch 11/20\n",
            "138/138 [==============================] - 1s 10ms/step - loss: 0.1111 - accuracy: 0.9741 - val_loss: 0.4986 - val_accuracy: 0.8193\n",
            "Epoch 12/20\n",
            "138/138 [==============================] - 1s 10ms/step - loss: 0.1052 - accuracy: 0.9733 - val_loss: 0.4634 - val_accuracy: 0.8302\n",
            "Epoch 13/20\n",
            "138/138 [==============================] - 1s 10ms/step - loss: 0.0974 - accuracy: 0.9736 - val_loss: 0.4544 - val_accuracy: 0.8373\n",
            "Epoch 14/20\n",
            "138/138 [==============================] - 1s 10ms/step - loss: 0.0909 - accuracy: 0.9768 - val_loss: 0.4755 - val_accuracy: 0.8201\n",
            "Epoch 15/20\n",
            "138/138 [==============================] - 1s 10ms/step - loss: 0.0924 - accuracy: 0.9731 - val_loss: 0.4440 - val_accuracy: 0.8368\n",
            "Epoch 16/20\n",
            "138/138 [==============================] - 1s 10ms/step - loss: 0.0893 - accuracy: 0.9725 - val_loss: 0.4194 - val_accuracy: 0.8513\n",
            "Epoch 17/20\n",
            "138/138 [==============================] - 1s 10ms/step - loss: 0.0825 - accuracy: 0.9755 - val_loss: 0.5538 - val_accuracy: 0.7918\n",
            "Epoch 18/20\n",
            "138/138 [==============================] - 1s 10ms/step - loss: 0.0808 - accuracy: 0.9750 - val_loss: 0.4472 - val_accuracy: 0.8356\n",
            "Epoch 19/20\n",
            "138/138 [==============================] - 1s 10ms/step - loss: 0.0813 - accuracy: 0.9755 - val_loss: 0.4703 - val_accuracy: 0.8238\n",
            "Epoch 20/20\n",
            "138/138 [==============================] - 1s 10ms/step - loss: 0.0834 - accuracy: 0.9740 - val_loss: 0.4462 - val_accuracy: 0.8392\n"
          ],
          "name": "stdout"
        },
        {
          "output_type": "display_data",
          "data": {
            "image/png": "[encoded data removed]",
            "text/plain": [
              "<Figure size 432x288 with 1 Axes>"
            ]
          },
          "metadata": {
            "tags": [],
            "needs_background": "light"
          }
        }
      ]
    },
    {
      "cell_type": "markdown",
      "metadata": {
        "id": "RWgzLlKj2kCy"
      },
      "source": [
        "######100"
      ]
    },
    {
      "cell_type": "code",
      "metadata": {
        "id": "lDVbncOc2Mwr",
        "colab": {
          "base_uri": "https://localhost:8080/",
          "height": 928
        },
        "outputId": "d4844be3-13ad-4888-ab0f-36bbb3981a0e"
      },
      "source": [
        "model01 = Sequential()\n",
        "#Первый полносвязный слой\n",
        "model01.add(Dense(100, input_dim=maxWordsCount, activation=\"relu\"))\n",
        "#Слой регуляризации Dropout\n",
        "model01.add(Dropout(0.25))\n",
        "#Слой пакетной нормализации\n",
        "model01.add(BatchNormalization())\n",
        "#Выходной полносвязный слой\n",
        "model01.add(Dense(6, activation='sigmoid'))\n",
        "\n",
        "model01.compile(optimizer='adam', \n",
        "              loss='categorical_crossentropy', \n",
        "              metrics=['accuracy'])\n",
        "\n",
        "#Обучаем сеть на выборке, сформированной по bag of words - xTrain01\n",
        "history = model01.fit(xTrain01, \n",
        "                      yTrain, \n",
        "                      epochs=20,\n",
        "                      batch_size=128,\n",
        "                      validation_data=(xTest01, yTest))\n",
        "\n",
        "plt.plot(history.history['accuracy'], \n",
        "         label='Доля верных ответов на обучающем наборе')\n",
        "plt.plot(history.history['val_accuracy'], \n",
        "         label='Доля верных ответов на проверочном наборе')\n",
        "plt.xlabel('Эпоха обучения')\n",
        "plt.ylabel('Доля верных ответов')\n",
        "plt.legend()\n",
        "plt.show()"
      ],
      "execution_count": null,
      "outputs": [
        {
          "output_type": "stream",
          "text": [
            "Epoch 1/20\n",
            "138/138 [==============================] - 3s 23ms/step - loss: 0.5557 - accuracy: 0.9690 - val_loss: 0.5736 - val_accuracy: 0.8760\n",
            "Epoch 2/20\n",
            "138/138 [==============================] - 3s 21ms/step - loss: 0.1717 - accuracy: 0.9525 - val_loss: 0.4001 - val_accuracy: 0.8540\n",
            "Epoch 3/20\n",
            "138/138 [==============================] - 3s 21ms/step - loss: 0.0886 - accuracy: 0.9661 - val_loss: 0.3229 - val_accuracy: 0.8892\n",
            "Epoch 4/20\n",
            "138/138 [==============================] - 3s 21ms/step - loss: 0.0457 - accuracy: 0.9800 - val_loss: 0.3207 - val_accuracy: 0.8823\n",
            "Epoch 5/20\n",
            "138/138 [==============================] - 3s 21ms/step - loss: 0.0290 - accuracy: 0.9867 - val_loss: 0.2983 - val_accuracy: 0.8911\n",
            "Epoch 6/20\n",
            "138/138 [==============================] - 3s 21ms/step - loss: 0.0147 - accuracy: 0.9944 - val_loss: 0.2846 - val_accuracy: 0.8983\n",
            "Epoch 7/20\n",
            "138/138 [==============================] - 3s 21ms/step - loss: 0.0062 - accuracy: 0.9986 - val_loss: 0.3083 - val_accuracy: 0.8836\n",
            "Epoch 8/20\n",
            "138/138 [==============================] - 3s 21ms/step - loss: 0.0016 - accuracy: 1.0000 - val_loss: 0.2883 - val_accuracy: 0.8947\n",
            "Epoch 9/20\n",
            "138/138 [==============================] - 3s 21ms/step - loss: 0.0011 - accuracy: 1.0000 - val_loss: 0.2887 - val_accuracy: 0.8944\n",
            "Epoch 10/20\n",
            "138/138 [==============================] - 3s 21ms/step - loss: 8.2660e-04 - accuracy: 1.0000 - val_loss: 0.2693 - val_accuracy: 0.9019\n",
            "Epoch 11/20\n",
            "138/138 [==============================] - 3s 21ms/step - loss: 6.9232e-04 - accuracy: 1.0000 - val_loss: 0.2711 - val_accuracy: 0.9004\n",
            "Epoch 12/20\n",
            "138/138 [==============================] - 3s 21ms/step - loss: 5.0927e-04 - accuracy: 1.0000 - val_loss: 0.2663 - val_accuracy: 0.9041\n",
            "Epoch 13/20\n",
            "138/138 [==============================] - 3s 21ms/step - loss: 4.2764e-04 - accuracy: 1.0000 - val_loss: 0.2596 - val_accuracy: 0.9071\n",
            "Epoch 14/20\n",
            "138/138 [==============================] - 3s 21ms/step - loss: 3.7194e-04 - accuracy: 1.0000 - val_loss: 0.2635 - val_accuracy: 0.9056\n",
            "Epoch 15/20\n",
            "138/138 [==============================] - 3s 21ms/step - loss: 3.0911e-04 - accuracy: 1.0000 - val_loss: 0.2576 - val_accuracy: 0.9089\n",
            "Epoch 16/20\n",
            "138/138 [==============================] - 3s 21ms/step - loss: 2.7454e-04 - accuracy: 1.0000 - val_loss: 0.2511 - val_accuracy: 0.9125\n",
            "Epoch 17/20\n",
            "138/138 [==============================] - 3s 21ms/step - loss: 2.4562e-04 - accuracy: 1.0000 - val_loss: 0.2458 - val_accuracy: 0.9138\n",
            "Epoch 18/20\n",
            "138/138 [==============================] - 3s 21ms/step - loss: 1.9755e-04 - accuracy: 1.0000 - val_loss: 0.2463 - val_accuracy: 0.9130\n",
            "Epoch 19/20\n",
            "138/138 [==============================] - 3s 21ms/step - loss: 1.7618e-04 - accuracy: 1.0000 - val_loss: 0.2471 - val_accuracy: 0.9122\n",
            "Epoch 20/20\n",
            "138/138 [==============================] - 3s 21ms/step - loss: 1.4724e-04 - accuracy: 1.0000 - val_loss: 0.2464 - val_accuracy: 0.9127\n"
          ],
          "name": "stdout"
        },
        {
          "output_type": "display_data",
          "data": {
            "image/png": "[encoded data removed]",
            "text/plain": [
              "<Figure size 432x288 with 1 Axes>"
            ]
          },
          "metadata": {
            "tags": [],
            "needs_background": "light"
          }
        }
      ]
    },
    {
      "cell_type": "markdown",
      "metadata": {
        "id": "MENvMgkL2wy1"
      },
      "source": [
        "#####500"
      ]
    },
    {
      "cell_type": "code",
      "metadata": {
        "id": "ie5EbB3r2xOj",
        "colab": {
          "base_uri": "https://localhost:8080/",
          "height": 928
        },
        "outputId": "b2f1b375-b250-490c-8441-6b2a462dc7b1"
      },
      "source": [
        "model01 = Sequential()\n",
        "#Первый полносвязный слой\n",
        "model01.add(Dense(500, input_dim=maxWordsCount, activation=\"relu\"))\n",
        "#Слой регуляризации Dropout\n",
        "model01.add(Dropout(0.25))\n",
        "#Слой пакетной нормализации\n",
        "model01.add(BatchNormalization())\n",
        "#Выходной полносвязный слой\n",
        "model01.add(Dense(6, activation='sigmoid'))\n",
        "\n",
        "model01.compile(optimizer='adam', \n",
        "              loss='categorical_crossentropy', \n",
        "              metrics=['accuracy'])\n",
        "\n",
        "#Обучаем сеть на выборке, сформированной по bag of words - xTrain01\n",
        "history = model01.fit(xTrain01, \n",
        "                      yTrain, \n",
        "                      epochs=20,\n",
        "                      batch_size=128,\n",
        "                      validation_data=(xTest01, yTest))\n",
        "\n",
        "plt.plot(history.history['accuracy'], \n",
        "         label='Доля верных ответов на обучающем наборе')\n",
        "plt.plot(history.history['val_accuracy'], \n",
        "         label='Доля верных ответов на проверочном наборе')\n",
        "plt.xlabel('Эпоха обучения')\n",
        "plt.ylabel('Доля верных ответов')\n",
        "plt.legend()\n",
        "plt.show()"
      ],
      "execution_count": null,
      "outputs": [
        {
          "output_type": "stream",
          "text": [
            "Epoch 1/20\n",
            "138/138 [==============================] - 9s 63ms/step - loss: 0.3024 - accuracy: 0.9132 - val_loss: 0.6095 - val_accuracy: 0.8087\n",
            "Epoch 2/20\n",
            "138/138 [==============================] - 8s 61ms/step - loss: 0.1041 - accuracy: 0.9071 - val_loss: 0.3937 - val_accuracy: 0.8648\n",
            "Epoch 3/20\n",
            "138/138 [==============================] - 8s 61ms/step - loss: 0.0635 - accuracy: 0.9209 - val_loss: 0.3183 - val_accuracy: 0.9013\n",
            "Epoch 4/20\n",
            "138/138 [==============================] - 8s 61ms/step - loss: 0.0569 - accuracy: 0.9230 - val_loss: 0.3273 - val_accuracy: 0.8926\n",
            "Epoch 5/20\n",
            "138/138 [==============================] - 8s 61ms/step - loss: 0.0549 - accuracy: 0.9259 - val_loss: 0.3351 - val_accuracy: 0.8862\n",
            "Epoch 6/20\n",
            "138/138 [==============================] - 8s 61ms/step - loss: 0.0428 - accuracy: 0.9424 - val_loss: 0.3042 - val_accuracy: 0.8950\n",
            "Epoch 7/20\n",
            "138/138 [==============================] - 8s 61ms/step - loss: 0.0386 - accuracy: 0.9462 - val_loss: 0.3180 - val_accuracy: 0.8902\n",
            "Epoch 8/20\n",
            "138/138 [==============================] - 8s 61ms/step - loss: 0.0369 - accuracy: 0.9501 - val_loss: 0.3211 - val_accuracy: 0.8972\n",
            "Epoch 9/20\n",
            "138/138 [==============================] - 9s 62ms/step - loss: 0.0132 - accuracy: 0.9874 - val_loss: 0.2914 - val_accuracy: 0.9050\n",
            "Epoch 10/20\n",
            "138/138 [==============================] - 9s 62ms/step - loss: 4.2192e-04 - accuracy: 1.0000 - val_loss: 0.3206 - val_accuracy: 0.8996\n",
            "Epoch 11/20\n",
            "138/138 [==============================] - 8s 61ms/step - loss: 2.2493e-04 - accuracy: 1.0000 - val_loss: 0.3297 - val_accuracy: 0.8971\n",
            "Epoch 12/20\n",
            "138/138 [==============================] - 8s 61ms/step - loss: 1.4990e-04 - accuracy: 1.0000 - val_loss: 0.3362 - val_accuracy: 0.8961\n",
            "Epoch 13/20\n",
            "138/138 [==============================] - 8s 62ms/step - loss: 1.1700e-04 - accuracy: 1.0000 - val_loss: 0.3398 - val_accuracy: 0.8959\n",
            "Epoch 14/20\n",
            "138/138 [==============================] - 8s 61ms/step - loss: 1.0386e-04 - accuracy: 1.0000 - val_loss: 0.3468 - val_accuracy: 0.8950\n",
            "Epoch 15/20\n",
            "138/138 [==============================] - 8s 61ms/step - loss: 8.5805e-05 - accuracy: 1.0000 - val_loss: 0.3431 - val_accuracy: 0.8961\n",
            "Epoch 16/20\n",
            "138/138 [==============================] - 15s 110ms/step - loss: 6.3644e-05 - accuracy: 1.0000 - val_loss: 0.3517 - val_accuracy: 0.8949\n",
            "Epoch 17/20\n",
            "138/138 [==============================] - 9s 63ms/step - loss: 5.6329e-05 - accuracy: 1.0000 - val_loss: 0.3523 - val_accuracy: 0.8952\n",
            "Epoch 18/20\n",
            "138/138 [==============================] - 8s 61ms/step - loss: 6.3141e-05 - accuracy: 1.0000 - val_loss: 0.3163 - val_accuracy: 0.9037\n",
            "Epoch 19/20\n",
            "138/138 [==============================] - 8s 61ms/step - loss: 4.7049e-05 - accuracy: 1.0000 - val_loss: 0.3439 - val_accuracy: 0.8987\n",
            "Epoch 20/20\n",
            "138/138 [==============================] - 8s 61ms/step - loss: 3.9257e-05 - accuracy: 1.0000 - val_loss: 0.3529 - val_accuracy: 0.8981\n"
          ],
          "name": "stdout"
        },
        {
          "output_type": "display_data",
          "data": {
            "image/png": "[encoded data removed]",
            "text/plain": [
              "<Figure size 432x288 with 1 Axes>"
            ]
          },
          "metadata": {
            "tags": [],
            "needs_background": "light"
          }
        }
      ]
    },
    {
      "cell_type": "markdown",
      "metadata": {
        "id": "GbOlgA6bqclS"
      },
      "source": [
        "#####Поменяйте количество слоев"
      ]
    },
    {
      "cell_type": "markdown",
      "metadata": {
        "id": "QfC-HD1W3iLX"
      },
      "source": [
        "######2 скрытых слоя"
      ]
    },
    {
      "cell_type": "code",
      "metadata": {
        "id": "f_45xjFb3x80",
        "colab": {
          "base_uri": "https://localhost:8080/",
          "height": 928
        },
        "outputId": "7c9d8869-4bdf-4193-f1e7-49542bafcfa2"
      },
      "source": [
        "model01 = Sequential()\n",
        "\n",
        "#Первый полносвязный слой\n",
        "model01.add(Dense(200, input_dim=maxWordsCount, activation=\"relu\"))\n",
        "#Слой регуляризации Dropout\n",
        "model01.add(Dropout(0.25))\n",
        "#Слой пакетной нормализации\n",
        "model01.add(BatchNormalization())\n",
        "\n",
        "#Второй полносвязный слой\n",
        "model01.add(Dense(200, input_dim=maxWordsCount, activation=\"relu\"))\n",
        "#Слой регуляризации Dropout\n",
        "model01.add(Dropout(0.25))\n",
        "#Слой пакетной нормализации\n",
        "model01.add(BatchNormalization())\n",
        "\n",
        "#Выходной полносвязный слой\n",
        "model01.add(Dense(6, activation='sigmoid'))\n",
        "\n",
        "model01.compile(optimizer='adam', \n",
        "              loss='categorical_crossentropy', \n",
        "              metrics=['accuracy'])\n",
        "\n",
        "#Обучаем сеть на выборке, сформированной по bag of words - xTrain01\n",
        "history = model01.fit(xTrain01, \n",
        "                      yTrain, \n",
        "                      epochs=20,\n",
        "                      batch_size=128,\n",
        "                      validation_data=(xTest01, yTest))\n",
        "\n",
        "plt.plot(history.history['accuracy'], \n",
        "         label='Доля верных ответов на обучающем наборе')\n",
        "plt.plot(history.history['val_accuracy'], \n",
        "         label='Доля верных ответов на проверочном наборе')\n",
        "plt.xlabel('Эпоха обучения')\n",
        "plt.ylabel('Доля верных ответов')\n",
        "plt.legend()\n",
        "plt.show()"
      ],
      "execution_count": null,
      "outputs": [
        {
          "output_type": "stream",
          "text": [
            "Epoch 1/20\n",
            "138/138 [==============================] - 5s 36ms/step - loss: 0.4861 - accuracy: 0.9147 - val_loss: 0.6643 - val_accuracy: 0.7338\n",
            "Epoch 2/20\n",
            "138/138 [==============================] - 5s 33ms/step - loss: 0.1673 - accuracy: 0.8632 - val_loss: 0.7194 - val_accuracy: 0.7291\n",
            "Epoch 3/20\n",
            "138/138 [==============================] - 5s 33ms/step - loss: 0.1494 - accuracy: 0.8555 - val_loss: 0.7965 - val_accuracy: 0.7312\n",
            "Epoch 4/20\n",
            "138/138 [==============================] - 5s 34ms/step - loss: 0.1317 - accuracy: 0.8543 - val_loss: 0.6389 - val_accuracy: 0.7350\n",
            "Epoch 5/20\n",
            "138/138 [==============================] - 5s 34ms/step - loss: 0.1095 - accuracy: 0.8530 - val_loss: 0.6796 - val_accuracy: 0.7297\n",
            "Epoch 6/20\n",
            "138/138 [==============================] - 5s 33ms/step - loss: 0.1045 - accuracy: 0.8528 - val_loss: 0.7027 - val_accuracy: 0.7326\n",
            "Epoch 7/20\n",
            "138/138 [==============================] - 5s 33ms/step - loss: 0.1037 - accuracy: 0.8526 - val_loss: 0.6927 - val_accuracy: 0.7329\n",
            "Epoch 8/20\n",
            "138/138 [==============================] - 5s 34ms/step - loss: 0.1033 - accuracy: 0.8524 - val_loss: 0.7130 - val_accuracy: 0.7329\n",
            "Epoch 9/20\n",
            "138/138 [==============================] - 5s 34ms/step - loss: 0.1031 - accuracy: 0.8525 - val_loss: 0.7377 - val_accuracy: 0.7300\n",
            "Epoch 10/20\n",
            "138/138 [==============================] - 5s 34ms/step - loss: 0.1029 - accuracy: 0.8523 - val_loss: 0.7891 - val_accuracy: 0.7305\n",
            "Epoch 11/20\n",
            "138/138 [==============================] - 5s 34ms/step - loss: 0.1028 - accuracy: 0.8524 - val_loss: 0.7887 - val_accuracy: 0.7327\n",
            "Epoch 12/20\n",
            "138/138 [==============================] - 5s 33ms/step - loss: 0.1027 - accuracy: 0.8524 - val_loss: 0.8069 - val_accuracy: 0.7338\n",
            "Epoch 13/20\n",
            "138/138 [==============================] - 5s 34ms/step - loss: 0.1027 - accuracy: 0.8523 - val_loss: 0.8282 - val_accuracy: 0.7348\n",
            "Epoch 14/20\n",
            "138/138 [==============================] - 5s 34ms/step - loss: 0.1026 - accuracy: 0.8523 - val_loss: 0.8385 - val_accuracy: 0.7345\n",
            "Epoch 15/20\n",
            "138/138 [==============================] - 5s 34ms/step - loss: 0.1026 - accuracy: 0.8524 - val_loss: 0.8777 - val_accuracy: 0.7359\n",
            "Epoch 16/20\n",
            "138/138 [==============================] - 5s 34ms/step - loss: 0.1026 - accuracy: 0.8524 - val_loss: 0.8648 - val_accuracy: 0.7387\n",
            "Epoch 17/20\n",
            "138/138 [==============================] - 5s 34ms/step - loss: 0.1025 - accuracy: 0.8524 - val_loss: 0.8612 - val_accuracy: 0.7359\n",
            "Epoch 18/20\n",
            "138/138 [==============================] - 5s 34ms/step - loss: 0.1025 - accuracy: 0.8524 - val_loss: 0.8474 - val_accuracy: 0.7356\n",
            "Epoch 19/20\n",
            "138/138 [==============================] - 5s 33ms/step - loss: 0.1025 - accuracy: 0.8523 - val_loss: 0.8366 - val_accuracy: 0.7338\n",
            "Epoch 20/20\n",
            "138/138 [==============================] - 5s 34ms/step - loss: 0.1025 - accuracy: 0.8523 - val_loss: 0.8615 - val_accuracy: 0.7329\n"
          ],
          "name": "stdout"
        },
        {
          "output_type": "display_data",
          "data": {
            "image/png": "[encoded data removed]",
            "text/plain": [
              "<Figure size 432x288 with 1 Axes>"
            ]
          },
          "metadata": {
            "tags": [],
            "needs_background": "light"
          }
        }
      ]
    },
    {
      "cell_type": "markdown",
      "metadata": {
        "id": "vKQB3BbD3iug"
      },
      "source": [
        "######3 скрытых слоя"
      ]
    },
    {
      "cell_type": "code",
      "metadata": {
        "id": "NXZrzFSC3yx7",
        "colab": {
          "base_uri": "https://localhost:8080/",
          "height": 928
        },
        "outputId": "7bbafe2b-fd32-44b8-cc19-18306d71965d"
      },
      "source": [
        "model01 = Sequential()\n",
        "\n",
        "#Первый полносвязный слой\n",
        "model01.add(Dense(200, input_dim=maxWordsCount, activation=\"relu\"))\n",
        "#Слой регуляризации Dropout\n",
        "model01.add(Dropout(0.25))\n",
        "#Слой пакетной нормализации\n",
        "model01.add(BatchNormalization())\n",
        "\n",
        "#Второй полносвязный слой\n",
        "model01.add(Dense(200, input_dim=maxWordsCount, activation=\"relu\"))\n",
        "#Слой регуляризации Dropout\n",
        "model01.add(Dropout(0.25))\n",
        "#Слой пакетной нормализации\n",
        "model01.add(BatchNormalization())\n",
        "\n",
        "#Третий полносвязный слой\n",
        "model01.add(Dense(200, input_dim=maxWordsCount, activation=\"relu\"))\n",
        "#Слой регуляризации Dropout\n",
        "model01.add(Dropout(0.25))\n",
        "#Слой пакетной нормализации\n",
        "model01.add(BatchNormalization())\n",
        "\n",
        "#Выходной полносвязный слой\n",
        "model01.add(Dense(6, activation='sigmoid'))\n",
        "\n",
        "model01.compile(optimizer='adam', \n",
        "              loss='categorical_crossentropy', \n",
        "              metrics=['accuracy'])\n",
        "\n",
        "#Обучаем сеть на выборке, сформированной по bag of words - xTrain01\n",
        "history = model01.fit(xTrain01, \n",
        "                      yTrain, \n",
        "                      epochs=20,\n",
        "                      batch_size=128,\n",
        "                      validation_data=(xTest01, yTest))\n",
        "\n",
        "plt.plot(history.history['accuracy'], \n",
        "         label='Доля верных ответов на обучающем наборе')\n",
        "plt.plot(history.history['val_accuracy'], \n",
        "         label='Доля верных ответов на проверочном наборе')\n",
        "plt.xlabel('Эпоха обучения')\n",
        "plt.ylabel('Доля верных ответов')\n",
        "plt.legend()\n",
        "plt.show()"
      ],
      "execution_count": null,
      "outputs": [
        {
          "output_type": "stream",
          "text": [
            "Epoch 1/20\n",
            "138/138 [==============================] - 5s 38ms/step - loss: 0.5522 - accuracy: 0.9475 - val_loss: 0.4466 - val_accuracy: 0.8459\n",
            "Epoch 2/20\n",
            "138/138 [==============================] - 5s 35ms/step - loss: 0.1008 - accuracy: 0.9901 - val_loss: 0.4374 - val_accuracy: 0.8177\n",
            "Epoch 3/20\n",
            "138/138 [==============================] - 5s 35ms/step - loss: 0.0724 - accuracy: 0.9927 - val_loss: 0.5257 - val_accuracy: 0.7993\n",
            "Epoch 4/20\n",
            "138/138 [==============================] - 5s 35ms/step - loss: 0.0676 - accuracy: 0.9927 - val_loss: 0.5418 - val_accuracy: 0.8021\n",
            "Epoch 5/20\n",
            "138/138 [==============================] - 5s 35ms/step - loss: 0.0656 - accuracy: 0.9916 - val_loss: 0.5790 - val_accuracy: 0.8002\n",
            "Epoch 6/20\n",
            "138/138 [==============================] - 5s 35ms/step - loss: 0.0646 - accuracy: 0.9925 - val_loss: 0.6062 - val_accuracy: 0.7997\n",
            "Epoch 7/20\n",
            "138/138 [==============================] - 5s 35ms/step - loss: 0.0641 - accuracy: 0.9926 - val_loss: 0.6326 - val_accuracy: 0.7984\n",
            "Epoch 8/20\n",
            "138/138 [==============================] - 5s 35ms/step - loss: 0.0637 - accuracy: 0.9930 - val_loss: 0.6620 - val_accuracy: 0.7960\n",
            "Epoch 9/20\n",
            "138/138 [==============================] - 5s 35ms/step - loss: 0.0635 - accuracy: 0.9938 - val_loss: 0.6554 - val_accuracy: 0.8002\n",
            "Epoch 10/20\n",
            "138/138 [==============================] - 5s 35ms/step - loss: 0.0634 - accuracy: 0.9918 - val_loss: 0.6960 - val_accuracy: 0.7906\n",
            "Epoch 11/20\n",
            "138/138 [==============================] - 5s 36ms/step - loss: 0.0633 - accuracy: 0.9908 - val_loss: 0.6936 - val_accuracy: 0.7939\n",
            "Epoch 12/20\n",
            "138/138 [==============================] - 5s 36ms/step - loss: 0.0632 - accuracy: 0.9914 - val_loss: 0.6273 - val_accuracy: 0.8056\n",
            "Epoch 13/20\n",
            "138/138 [==============================] - 5s 36ms/step - loss: 0.0631 - accuracy: 0.9918 - val_loss: 0.6376 - val_accuracy: 0.8050\n",
            "Epoch 14/20\n",
            "138/138 [==============================] - 5s 36ms/step - loss: 0.0631 - accuracy: 0.9927 - val_loss: 0.6711 - val_accuracy: 0.8000\n",
            "Epoch 15/20\n",
            "138/138 [==============================] - 5s 37ms/step - loss: 0.0630 - accuracy: 0.9926 - val_loss: 0.6163 - val_accuracy: 0.8095\n",
            "Epoch 16/20\n",
            "138/138 [==============================] - 5s 37ms/step - loss: 0.0630 - accuracy: 0.9925 - val_loss: 0.6438 - val_accuracy: 0.8042\n",
            "Epoch 17/20\n",
            "138/138 [==============================] - 5s 35ms/step - loss: 0.0630 - accuracy: 0.9943 - val_loss: 0.6913 - val_accuracy: 0.7946\n",
            "Epoch 18/20\n",
            "138/138 [==============================] - 5s 35ms/step - loss: 0.0629 - accuracy: 0.9934 - val_loss: 0.6259 - val_accuracy: 0.8071\n",
            "Epoch 19/20\n",
            "138/138 [==============================] - 5s 36ms/step - loss: 0.0629 - accuracy: 0.9929 - val_loss: 0.6535 - val_accuracy: 0.8060\n",
            "Epoch 20/20\n",
            "138/138 [==============================] - 5s 35ms/step - loss: 0.0629 - accuracy: 0.9950 - val_loss: 1.1037 - val_accuracy: 0.7433\n"
          ],
          "name": "stdout"
        },
        {
          "output_type": "display_data",
          "data": {
            "image/png": "[encoded data removed]",
            "text/plain": [
              "<Figure size 432x288 with 1 Axes>"
            ]
          },
          "metadata": {
            "tags": [],
            "needs_background": "light"
          }
        }
      ]
    },
    {
      "cell_type": "markdown",
      "metadata": {
        "id": "E-DJsBbO3i6e"
      },
      "source": [
        "######4 скрытых слоя"
      ]
    },
    {
      "cell_type": "code",
      "metadata": {
        "id": "MFpRt_Vx3zr5",
        "colab": {
          "base_uri": "https://localhost:8080/",
          "height": 928
        },
        "outputId": "9c4ff655-2f68-4fbe-e7ed-53858678bb95"
      },
      "source": [
        "model01 = Sequential()\n",
        "\n",
        "#Первый полносвязный слой\n",
        "model01.add(Dense(200, input_dim=maxWordsCount, activation=\"relu\"))\n",
        "#Слой регуляризации Dropout\n",
        "model01.add(Dropout(0.25))\n",
        "#Слой пакетной нормализации\n",
        "model01.add(BatchNormalization())\n",
        "\n",
        "#Второй полносвязный слой\n",
        "model01.add(Dense(200, input_dim=maxWordsCount, activation=\"relu\"))\n",
        "#Слой регуляризации Dropout\n",
        "model01.add(Dropout(0.25))\n",
        "#Слой пакетной нормализации\n",
        "model01.add(BatchNormalization())\n",
        "\n",
        "#Третий полносвязный слой\n",
        "model01.add(Dense(200, input_dim=maxWordsCount, activation=\"relu\"))\n",
        "#Слой регуляризации Dropout\n",
        "model01.add(Dropout(0.25))\n",
        "#Слой пакетной нормализации\n",
        "model01.add(BatchNormalization())\n",
        "\n",
        "#Четвёртый полносвязный слой\n",
        "model01.add(Dense(200, input_dim=maxWordsCount, activation=\"relu\"))\n",
        "#Слой регуляризации Dropout\n",
        "model01.add(Dropout(0.25))\n",
        "#Слой пакетной нормализации\n",
        "model01.add(BatchNormalization())\n",
        "\n",
        "#Выходной полносвязный слой\n",
        "model01.add(Dense(6, activation='sigmoid'))\n",
        "\n",
        "model01.compile(optimizer='adam', \n",
        "              loss='categorical_crossentropy', \n",
        "              metrics=['accuracy'])\n",
        "\n",
        "#Обучаем сеть на выборке, сформированной по bag of words - xTrain01\n",
        "history = model01.fit(xTrain01, \n",
        "                      yTrain, \n",
        "                      epochs=20,\n",
        "                      batch_size=128,\n",
        "                      validation_data=(xTest01, yTest))\n",
        "\n",
        "plt.plot(history.history['accuracy'], \n",
        "         label='Доля верных ответов на обучающем наборе')\n",
        "plt.plot(history.history['val_accuracy'], \n",
        "         label='Доля верных ответов на проверочном наборе')\n",
        "plt.xlabel('Эпоха обучения')\n",
        "plt.ylabel('Доля верных ответов')\n",
        "plt.legend()\n",
        "plt.show()"
      ],
      "execution_count": null,
      "outputs": [
        {
          "output_type": "stream",
          "text": [
            "Epoch 1/20\n",
            "138/138 [==============================] - 5s 39ms/step - loss: 0.6979 - accuracy: 0.8740 - val_loss: 0.6557 - val_accuracy: 0.7203\n",
            "Epoch 2/20\n",
            "138/138 [==============================] - 5s 37ms/step - loss: 0.1816 - accuracy: 0.9091 - val_loss: 0.8193 - val_accuracy: 0.6660\n",
            "Epoch 3/20\n",
            "138/138 [==============================] - 5s 37ms/step - loss: 0.1565 - accuracy: 0.8962 - val_loss: 0.9375 - val_accuracy: 0.6502\n",
            "Epoch 4/20\n",
            "138/138 [==============================] - 5s 37ms/step - loss: 0.1517 - accuracy: 0.8943 - val_loss: 1.0792 - val_accuracy: 0.6318\n",
            "Epoch 5/20\n",
            "138/138 [==============================] - 5s 37ms/step - loss: 0.1496 - accuracy: 0.8906 - val_loss: 1.0787 - val_accuracy: 0.6454\n",
            "Epoch 6/20\n",
            "138/138 [==============================] - 5s 37ms/step - loss: 0.1489 - accuracy: 0.8902 - val_loss: 1.3397 - val_accuracy: 0.5984\n",
            "Epoch 7/20\n",
            "138/138 [==============================] - 5s 37ms/step - loss: 0.1480 - accuracy: 0.8859 - val_loss: 1.6093 - val_accuracy: 0.5640\n",
            "Epoch 8/20\n",
            "138/138 [==============================] - 5s 37ms/step - loss: 0.1488 - accuracy: 0.8823 - val_loss: 1.1795 - val_accuracy: 0.6125\n",
            "Epoch 9/20\n",
            "138/138 [==============================] - 5s 37ms/step - loss: 0.1172 - accuracy: 0.8776 - val_loss: 0.9384 - val_accuracy: 0.6445\n",
            "Epoch 10/20\n",
            "138/138 [==============================] - 5s 37ms/step - loss: 0.0910 - accuracy: 0.8853 - val_loss: 0.8182 - val_accuracy: 0.7357\n",
            "Epoch 11/20\n",
            "138/138 [==============================] - 5s 37ms/step - loss: 0.0868 - accuracy: 0.8972 - val_loss: 0.8062 - val_accuracy: 0.8271\n",
            "Epoch 12/20\n",
            "138/138 [==============================] - 5s 37ms/step - loss: 0.0846 - accuracy: 0.9342 - val_loss: 1.1150 - val_accuracy: 0.7758\n",
            "Epoch 13/20\n",
            "138/138 [==============================] - 5s 37ms/step - loss: 0.0082 - accuracy: 0.9982 - val_loss: 0.8166 - val_accuracy: 0.8229\n",
            "Epoch 14/20\n",
            "138/138 [==============================] - 5s 37ms/step - loss: 0.0031 - accuracy: 0.9993 - val_loss: 0.9597 - val_accuracy: 0.8053\n",
            "Epoch 15/20\n",
            "138/138 [==============================] - 5s 37ms/step - loss: 0.0018 - accuracy: 0.9997 - val_loss: 0.9720 - val_accuracy: 0.8006\n",
            "Epoch 16/20\n",
            "138/138 [==============================] - 5s 37ms/step - loss: 0.0010 - accuracy: 0.9998 - val_loss: 0.9930 - val_accuracy: 0.8141\n",
            "Epoch 17/20\n",
            "138/138 [==============================] - 5s 37ms/step - loss: 0.0020 - accuracy: 0.9994 - val_loss: 0.8928 - val_accuracy: 0.8201\n",
            "Epoch 18/20\n",
            "138/138 [==============================] - 5s 37ms/step - loss: 0.0016 - accuracy: 0.9996 - val_loss: 0.8386 - val_accuracy: 0.8404\n",
            "Epoch 19/20\n",
            "138/138 [==============================] - 5s 37ms/step - loss: 0.0016 - accuracy: 0.9997 - val_loss: 0.9024 - val_accuracy: 0.8332\n",
            "Epoch 20/20\n",
            "138/138 [==============================] - 5s 37ms/step - loss: 4.8509e-04 - accuracy: 0.9999 - val_loss: 0.9073 - val_accuracy: 0.8410\n"
          ],
          "name": "stdout"
        },
        {
          "output_type": "display_data",
          "data": {
            "image/png": "[encoded data removed]",
            "text/plain": [
              "<Figure size 432x288 with 1 Axes>"
            ]
          },
          "metadata": {
            "tags": [],
            "needs_background": "light"
          }
        }
      ]
    },
    {
      "cell_type": "markdown",
      "metadata": {
        "id": "265ebouUqm7Y"
      },
      "source": [
        "#####Поменяйте активационные функции слоев"
      ]
    },
    {
      "cell_type": "markdown",
      "metadata": {
        "id": "tm5F_neQqcvC"
      },
      "source": [
        "\n",
        "####Запустите нейронку c Embbedding при maxWordsCount = 50000, поменяйте размер Embedding пространства"
      ]
    },
    {
      "cell_type": "code",
      "metadata": {
        "id": "Ys8YUAaq5D23"
      },
      "source": [
        "maxWordsCount = 50000 # Определяем максимальное количество слов/индексов, учитываемое при обучении текстов\n",
        "tokenizer = Tokenizer(num_words=maxWordsCount, filters='!\"#$%&()*+,-–—./…:;<=>?@[\\\\]^_`{|}~«»\\t\\n\\xa0', lower=True, split=' ', oov_token='unknown', char_level=False)\n",
        "tokenizer.fit_on_texts(trainText) # \"Скармливаем\" наши тексты, т.е. даём в обработку методу, который соберет словарь частотности\n",
        "items = list(tokenizer.word_index.items()) # Вытаскиваем индексы слов для просмотра"
      ],
      "execution_count": null,
      "outputs": []
    },
    {
      "cell_type": "code",
      "metadata": {
        "id": "PXO528Vp5D27"
      },
      "source": [
        "xTrain, yTrain = createSetsMultiClasses(trainWordIndexes, xLen, step) #извлекаем обучающую выборку\n",
        "xTest, yTest = createSetsMultiClasses(testWordIndexes, xLen, step)    #извлекаем тестовую выборку"
      ],
      "execution_count": null,
      "outputs": []
    },
    {
      "cell_type": "markdown",
      "metadata": {
        "id": "Nt3IHMrxqtE4"
      },
      "source": [
        "#####10"
      ]
    },
    {
      "cell_type": "code",
      "metadata": {
        "id": "Ej5SJ9cf5Rh1",
        "colab": {
          "base_uri": "https://localhost:8080/",
          "height": 603
        },
        "outputId": "0d521d51-515f-4be1-ef62-183bc744fa1a"
      },
      "source": [
        "#Создаём сеть с Embedding слоем\n",
        "modelE = Sequential()\n",
        "modelE.add(Embedding(maxWordsCount, 10, input_length=xLen))\n",
        "modelE.add(SpatialDropout1D(0.2))\n",
        "modelE.add(Flatten())\n",
        "modelE.add(BatchNormalization())\n",
        "modelE.add(Dense(200, activation=\"relu\"))\n",
        "modelE.add(Dropout(0.2))\n",
        "modelE.add(BatchNormalization())\n",
        "modelE.add(Dense(6, activation='sigmoid'))\n",
        "\n",
        "modelE.compile(optimizer='adam', \n",
        "              loss='categorical_crossentropy', \n",
        "              metrics=['accuracy'])\n",
        "#Обучаем сеть на xTrain\n",
        "history = modelE.fit(xTrain, \n",
        "                    yTrain, \n",
        "                    epochs=10,\n",
        "                    batch_size=128,\n",
        "                    validation_data=(xTest, yTest))\n",
        "\n",
        "\n",
        "plt.plot(history.history['accuracy'], \n",
        "         label='Доля верных ответов на обучающем наборе')\n",
        "plt.plot(history.history['val_accuracy'], \n",
        "         label='Доля верных ответов на проверочном наборе')\n",
        "plt.xlabel('Эпоха обучения')\n",
        "plt.ylabel('Доля верных ответов')\n",
        "plt.legend()\n",
        "plt.show()"
      ],
      "execution_count": null,
      "outputs": [
        {
          "output_type": "stream",
          "text": [
            "Epoch 1/10\n",
            "138/138 [==============================] - 6s 43ms/step - loss: 1.1856 - accuracy: 0.5897 - val_loss: 1.9705 - val_accuracy: 0.2942\n",
            "Epoch 2/10\n",
            "138/138 [==============================] - 6s 42ms/step - loss: 0.5029 - accuracy: 0.8589 - val_loss: 2.5763 - val_accuracy: 0.2929\n",
            "Epoch 3/10\n",
            "138/138 [==============================] - 6s 42ms/step - loss: 0.1835 - accuracy: 0.8624 - val_loss: 2.1810 - val_accuracy: 0.3273\n",
            "Epoch 4/10\n",
            "138/138 [==============================] - 6s 42ms/step - loss: 0.1243 - accuracy: 0.8592 - val_loss: 1.4180 - val_accuracy: 0.5356\n",
            "Epoch 5/10\n",
            "138/138 [==============================] - 6s 42ms/step - loss: 0.1132 - accuracy: 0.8760 - val_loss: 1.4839 - val_accuracy: 0.5395\n",
            "Epoch 6/10\n",
            "138/138 [==============================] - 6s 42ms/step - loss: 0.1094 - accuracy: 0.9129 - val_loss: 0.8312 - val_accuracy: 0.6934\n",
            "Epoch 7/10\n",
            "138/138 [==============================] - 6s 42ms/step - loss: 0.0389 - accuracy: 0.9912 - val_loss: 1.2340 - val_accuracy: 0.6216\n",
            "Epoch 8/10\n",
            "138/138 [==============================] - 6s 42ms/step - loss: 0.0065 - accuracy: 0.9987 - val_loss: 1.0789 - val_accuracy: 0.6470\n",
            "Epoch 9/10\n",
            "138/138 [==============================] - 6s 42ms/step - loss: 0.0056 - accuracy: 0.9987 - val_loss: 1.6118 - val_accuracy: 0.5538\n",
            "Epoch 10/10\n",
            "138/138 [==============================] - 6s 42ms/step - loss: 0.0058 - accuracy: 0.9985 - val_loss: 1.1118 - val_accuracy: 0.6494\n"
          ],
          "name": "stdout"
        },
        {
          "output_type": "display_data",
          "data": {
            "image/png": "[encoded data removed]",
            "text/plain": [
              "<Figure size 432x288 with 1 Axes>"
            ]
          },
          "metadata": {
            "tags": [],
            "needs_background": "light"
          }
        }
      ]
    },
    {
      "cell_type": "markdown",
      "metadata": {
        "id": "17-O1USyqc36"
      },
      "source": [
        "#####50"
      ]
    },
    {
      "cell_type": "code",
      "metadata": {
        "id": "k_--WKtu5duR",
        "colab": {
          "base_uri": "https://localhost:8080/",
          "height": 603
        },
        "outputId": "8186e184-f2a2-448e-abb6-5cf458fc9893"
      },
      "source": [
        "#Создаём сеть с Embedding слоем\n",
        "modelE = Sequential()\n",
        "modelE.add(Embedding(maxWordsCount, 50, input_length=xLen))\n",
        "modelE.add(SpatialDropout1D(0.2))\n",
        "modelE.add(Flatten())\n",
        "modelE.add(BatchNormalization())\n",
        "modelE.add(Dense(200, activation=\"relu\"))\n",
        "modelE.add(Dropout(0.2))\n",
        "modelE.add(BatchNormalization())\n",
        "modelE.add(Dense(6, activation='sigmoid'))\n",
        "\n",
        "modelE.compile(optimizer='adam', \n",
        "              loss='categorical_crossentropy', \n",
        "              metrics=['accuracy'])\n",
        "#Обучаем сеть на xTrain\n",
        "history = modelE.fit(xTrain, \n",
        "                    yTrain, \n",
        "                    epochs=10,\n",
        "                    batch_size=128,\n",
        "                    validation_data=(xTest, yTest))\n",
        "\n",
        "\n",
        "plt.plot(history.history['accuracy'], \n",
        "         label='Доля верных ответов на обучающем наборе')\n",
        "plt.plot(history.history['val_accuracy'], \n",
        "         label='Доля верных ответов на проверочном наборе')\n",
        "plt.xlabel('Эпоха обучения')\n",
        "plt.ylabel('Доля верных ответов')\n",
        "plt.legend()\n",
        "plt.show()"
      ],
      "execution_count": null,
      "outputs": [
        {
          "output_type": "stream",
          "text": [
            "Epoch 1/10\n",
            "138/138 [==============================] - 23s 168ms/step - loss: 0.9991 - accuracy: 0.6834 - val_loss: 2.7120 - val_accuracy: 0.2929\n",
            "Epoch 2/10\n",
            "138/138 [==============================] - 22s 158ms/step - loss: 0.3175 - accuracy: 0.8714 - val_loss: 2.6901 - val_accuracy: 0.2997\n",
            "Epoch 3/10\n",
            "138/138 [==============================] - 22s 158ms/step - loss: 0.1635 - accuracy: 0.8586 - val_loss: 1.8446 - val_accuracy: 0.4176\n",
            "Epoch 4/10\n",
            "138/138 [==============================] - 22s 159ms/step - loss: 0.1148 - accuracy: 0.8558 - val_loss: 1.4596 - val_accuracy: 0.5929\n",
            "Epoch 5/10\n",
            "138/138 [==============================] - 22s 158ms/step - loss: 0.1060 - accuracy: 0.8557 - val_loss: 1.3492 - val_accuracy: 0.6134\n",
            "Epoch 6/10\n",
            "138/138 [==============================] - 22s 158ms/step - loss: 0.1043 - accuracy: 0.8576 - val_loss: 1.2133 - val_accuracy: 0.6418\n",
            "Epoch 7/10\n",
            "138/138 [==============================] - 22s 159ms/step - loss: 0.1035 - accuracy: 0.8603 - val_loss: 1.3368 - val_accuracy: 0.6102\n",
            "Epoch 8/10\n",
            "138/138 [==============================] - 22s 158ms/step - loss: 0.1027 - accuracy: 0.8672 - val_loss: 0.9744 - val_accuracy: 0.6669\n",
            "Epoch 9/10\n",
            "138/138 [==============================] - 22s 158ms/step - loss: 0.0999 - accuracy: 0.8911 - val_loss: 0.7732 - val_accuracy: 0.7430\n",
            "Epoch 10/10\n",
            "138/138 [==============================] - 22s 160ms/step - loss: 0.0253 - accuracy: 0.9866 - val_loss: 0.7613 - val_accuracy: 0.7420\n"
          ],
          "name": "stdout"
        },
        {
          "output_type": "display_data",
          "data": {
            "image/png": "[encoded data removed]",
            "text/plain": [
              "<Figure size 432x288 with 1 Axes>"
            ]
          },
          "metadata": {
            "tags": [],
            "needs_background": "light"
          }
        }
      ]
    },
    {
      "cell_type": "markdown",
      "metadata": {
        "id": "hzk99bySqwhf"
      },
      "source": [
        "#####200"
      ]
    },
    {
      "cell_type": "code",
      "metadata": {
        "id": "c7v8fZZU5iGi",
        "colab": {
          "base_uri": "https://localhost:8080/",
          "height": 603
        },
        "outputId": "0fcf2e64-181c-4c03-84b8-84bf7935250a"
      },
      "source": [
        "#Создаём сеть с Embedding слоем\n",
        "modelE = Sequential()\n",
        "modelE.add(Embedding(maxWordsCount, 200, input_length=xLen))\n",
        "modelE.add(SpatialDropout1D(0.2))\n",
        "modelE.add(Flatten())\n",
        "modelE.add(BatchNormalization())\n",
        "modelE.add(Dense(200, activation=\"relu\"))\n",
        "modelE.add(Dropout(0.2))\n",
        "modelE.add(BatchNormalization())\n",
        "modelE.add(Dense(6, activation='sigmoid'))\n",
        "\n",
        "modelE.compile(optimizer='adam', \n",
        "              loss='categorical_crossentropy', \n",
        "              metrics=['accuracy'])\n",
        "#Обучаем сеть на xTrain\n",
        "history = modelE.fit(xTrain, \n",
        "                    yTrain, \n",
        "                    epochs=10,\n",
        "                    batch_size=128,\n",
        "                    validation_data=(xTest, yTest))\n",
        "\n",
        "\n",
        "plt.plot(history.history['accuracy'], \n",
        "         label='Доля верных ответов на обучающем наборе')\n",
        "plt.plot(history.history['val_accuracy'], \n",
        "         label='Доля верных ответов на проверочном наборе')\n",
        "plt.xlabel('Эпоха обучения')\n",
        "plt.ylabel('Доля верных ответов')\n",
        "plt.legend()\n",
        "plt.show()"
      ],
      "execution_count": null,
      "outputs": [
        {
          "output_type": "stream",
          "text": [
            "Epoch 1/10\n",
            "138/138 [==============================] - 83s 603ms/step - loss: 0.9236 - accuracy: 0.7346 - val_loss: 2.8534 - val_accuracy: 0.2958\n",
            "Epoch 2/10\n",
            "138/138 [==============================] - 83s 604ms/step - loss: 0.2926 - accuracy: 0.8986 - val_loss: 2.1128 - val_accuracy: 0.2972\n",
            "Epoch 3/10\n",
            "138/138 [==============================] - 83s 605ms/step - loss: 0.1239 - accuracy: 0.9378 - val_loss: 1.5804 - val_accuracy: 0.3780\n",
            "Epoch 4/10\n",
            "138/138 [==============================] - 84s 610ms/step - loss: 0.0263 - accuracy: 0.9945 - val_loss: 1.1622 - val_accuracy: 0.5483\n",
            "Epoch 5/10\n",
            "138/138 [==============================] - 83s 604ms/step - loss: 0.0056 - accuracy: 1.0000 - val_loss: 0.8369 - val_accuracy: 0.6979\n",
            "Epoch 6/10\n",
            "138/138 [==============================] - 83s 603ms/step - loss: 0.0026 - accuracy: 1.0000 - val_loss: 0.7670 - val_accuracy: 0.7215\n",
            "Epoch 7/10\n",
            "138/138 [==============================] - 83s 604ms/step - loss: 0.0017 - accuracy: 1.0000 - val_loss: 0.7676 - val_accuracy: 0.7241\n",
            "Epoch 8/10\n",
            "138/138 [==============================] - 83s 605ms/step - loss: 0.0011 - accuracy: 1.0000 - val_loss: 0.7542 - val_accuracy: 0.7329\n",
            "Epoch 9/10\n",
            "138/138 [==============================] - 84s 605ms/step - loss: 9.2094e-04 - accuracy: 1.0000 - val_loss: 0.7663 - val_accuracy: 0.7303\n",
            "Epoch 10/10\n",
            "138/138 [==============================] - 84s 606ms/step - loss: 6.5294e-04 - accuracy: 1.0000 - val_loss: 0.7704 - val_accuracy: 0.7309\n"
          ],
          "name": "stdout"
        },
        {
          "output_type": "display_data",
          "data": {
            "image/png": "[encoded data removed]",
            "text/plain": [
              "<Figure size 432x288 with 1 Axes>"
            ]
          },
          "metadata": {
            "tags": [],
            "needs_background": "light"
          }
        }
      ]
    },
    {
      "cell_type": "markdown",
      "metadata": {
        "id": "urME4Y_1prOX"
      },
      "source": [
        "#PRO"
      ]
    },
    {
      "cell_type": "markdown",
      "metadata": {
        "id": "rvFORQPf5rSF"
      },
      "source": [
        "##Вариант 1\n",
        "Добейтесь точности распознавания 97% и верно распознанных всех писателей с помощью любой нейронной сети без фильтрации данных. \n"
      ]
    },
    {
      "cell_type": "code",
      "metadata": {
        "id": "pCxn8LYv3glJ"
      },
      "source": [
        "maxWordsCount = 20000 \n",
        "\n",
        "tokenizer = Tokenizer(num_words=maxWordsCount, filters='', lower=True, split=' ', oov_token='unknown', char_level=False)\n",
        "tokenizer.fit_on_texts(trainText)\n",
        "items = list(tokenizer.word_index.items()) "
      ],
      "execution_count": null,
      "outputs": []
    },
    {
      "cell_type": "code",
      "metadata": {
        "id": "hkJeOizQABT6"
      },
      "source": [
        "trainWordIndexes = tokenizer.texts_to_sequences(trainText) # Обучающие тесты в индексы\n",
        "testWordIndexes = tokenizer.texts_to_sequences(testText)  # Проверочные тесты в индексы"
      ],
      "execution_count": null,
      "outputs": []
    },
    {
      "cell_type": "code",
      "metadata": {
        "id": "SgzoAiyawSwJ"
      },
      "source": [
        "xLen = 5000 #Длина отрезка текста, по которой анализируем, в словах\n",
        "step = 200 #Шаг разбиения исходного текста на обучающие векторы"
      ],
      "execution_count": null,
      "outputs": []
    },
    {
      "cell_type": "code",
      "metadata": {
        "id": "CqAgZWT8RH0b"
      },
      "source": [
        "# обучающий/тестовый набор для Embedding\n",
        "xTrain, yTrain = createSetsMultiClasses(trainWordIndexes, xLen, step) #извлекаем обучающую выборку\n",
        "xTest, yTest = createSetsMultiClasses(testWordIndexes, xLen, step)    #извлекаем тестовую выборку\n"
      ],
      "execution_count": null,
      "outputs": []
    },
    {
      "cell_type": "code",
      "metadata": {
        "id": "VZpWSQWf4pgY"
      },
      "source": [
        "# преобразование выборки для Bag of Words\n",
        "xTrain01 = tokenizer.sequences_to_matrix(xTrain.tolist()) \n",
        "xTest01 = tokenizer.sequences_to_matrix(xTest.tolist()) "
      ],
      "execution_count": null,
      "outputs": []
    },
    {
      "cell_type": "markdown",
      "metadata": {
        "id": "r4IB6OQBKBnS"
      },
      "source": [
        "**Нейросеть**"
      ]
    },
    {
      "cell_type": "code",
      "metadata": {
        "id": "j9fWpAZTa0Ja",
        "colab": {
          "base_uri": "https://localhost:8080/",
          "height": 928
        },
        "outputId": "13b4d047-9737-4cab-e6d4-774e360f053f"
      },
      "source": [
        "#Создаём полносвязную сеть\n",
        "model01 = Sequential()\n",
        "\n",
        "model01.add(BatchNormalization(input_dim=maxWordsCount))\n",
        "model01.add(Dropout(0.50))\n",
        "\n",
        "model01.add(Dense(16, activation=\"relu\"))\n",
        "\n",
        "model01.add(Dropout(0.50))\n",
        "model01.add(BatchNormalization())\n",
        "\n",
        "model01.add(Dense(6, activation='sigmoid'))\n",
        "\n",
        "model01.compile(optimizer='adam', \n",
        "              loss='categorical_crossentropy', \n",
        "              metrics=['accuracy'])\n",
        "\n",
        "#Обучаем сеть на bag of words\n",
        "history = model01.fit(xTrain01, \n",
        "                      yTrain, \n",
        "                      epochs=20,\n",
        "                      batch_size=128,\n",
        "                      validation_data=(xTest01, yTest))\n",
        "\n",
        "plt.plot(history.history['accuracy'], \n",
        "         label='Доля верных ответов на обучающем наборе')\n",
        "plt.plot(history.history['val_accuracy'], \n",
        "         label='Доля верных ответов на проверочном наборе')\n",
        "plt.xlabel('Эпоха обучения')\n",
        "plt.ylabel('Доля верных ответов')\n",
        "plt.legend()\n",
        "plt.show()"
      ],
      "execution_count": null,
      "outputs": [
        {
          "output_type": "stream",
          "text": [
            "Epoch 1/20\n",
            "70/70 [==============================] - 3s 37ms/step - loss: 1.1928 - accuracy: 0.8090 - val_loss: 1.4460 - val_accuracy: 0.8499\n",
            "Epoch 2/20\n",
            "70/70 [==============================] - 2s 33ms/step - loss: 0.9816 - accuracy: 0.8761 - val_loss: 1.3485 - val_accuracy: 0.8262\n",
            "Epoch 3/20\n",
            "70/70 [==============================] - 2s 33ms/step - loss: 0.8466 - accuracy: 0.8640 - val_loss: 1.2035 - val_accuracy: 0.8462\n",
            "Epoch 4/20\n",
            "70/70 [==============================] - 2s 33ms/step - loss: 0.7274 - accuracy: 0.8664 - val_loss: 1.0641 - val_accuracy: 0.8754\n",
            "Epoch 5/20\n",
            "70/70 [==============================] - 2s 33ms/step - loss: 0.6377 - accuracy: 0.8590 - val_loss: 0.9060 - val_accuracy: 0.9307\n",
            "Epoch 6/20\n",
            "70/70 [==============================] - 2s 33ms/step - loss: 0.5559 - accuracy: 0.8580 - val_loss: 0.7689 - val_accuracy: 0.9234\n",
            "Epoch 7/20\n",
            "70/70 [==============================] - 2s 33ms/step - loss: 0.4987 - accuracy: 0.8531 - val_loss: 0.6659 - val_accuracy: 0.9219\n",
            "Epoch 8/20\n",
            "70/70 [==============================] - 2s 33ms/step - loss: 0.4531 - accuracy: 0.8574 - val_loss: 0.5744 - val_accuracy: 0.9192\n",
            "Epoch 9/20\n",
            "70/70 [==============================] - 2s 33ms/step - loss: 0.4229 - accuracy: 0.8537 - val_loss: 0.5319 - val_accuracy: 0.8924\n",
            "Epoch 10/20\n",
            "70/70 [==============================] - 2s 33ms/step - loss: 0.3916 - accuracy: 0.8608 - val_loss: 0.4827 - val_accuracy: 0.8870\n",
            "Epoch 11/20\n",
            "70/70 [==============================] - 2s 33ms/step - loss: 0.3732 - accuracy: 0.8665 - val_loss: 0.4440 - val_accuracy: 0.8818\n",
            "Epoch 12/20\n",
            "70/70 [==============================] - 2s 33ms/step - loss: 0.3634 - accuracy: 0.8664 - val_loss: 0.4170 - val_accuracy: 0.8730\n",
            "Epoch 13/20\n",
            "70/70 [==============================] - 2s 33ms/step - loss: 0.3418 - accuracy: 0.8759 - val_loss: 0.3995 - val_accuracy: 0.8699\n",
            "Epoch 14/20\n",
            "70/70 [==============================] - 2s 33ms/step - loss: 0.3348 - accuracy: 0.8748 - val_loss: 0.3950 - val_accuracy: 0.8633\n",
            "Epoch 15/20\n",
            "70/70 [==============================] - 2s 33ms/step - loss: 0.3098 - accuracy: 0.8861 - val_loss: 0.3868 - val_accuracy: 0.8587\n",
            "Epoch 16/20\n",
            "70/70 [==============================] - 2s 33ms/step - loss: 0.3004 - accuracy: 0.8890 - val_loss: 0.3579 - val_accuracy: 0.8976\n",
            "Epoch 17/20\n",
            "70/70 [==============================] - 2s 33ms/step - loss: 0.2809 - accuracy: 0.8974 - val_loss: 0.3545 - val_accuracy: 0.9134\n",
            "Epoch 18/20\n",
            "70/70 [==============================] - 2s 33ms/step - loss: 0.2729 - accuracy: 0.8958 - val_loss: 0.3341 - val_accuracy: 0.9638\n",
            "Epoch 19/20\n",
            "70/70 [==============================] - 2s 33ms/step - loss: 0.2727 - accuracy: 0.8942 - val_loss: 0.3026 - val_accuracy: 0.9796\n",
            "Epoch 20/20\n",
            "70/70 [==============================] - 2s 33ms/step - loss: 0.2480 - accuracy: 0.9131 - val_loss: 0.2829 - val_accuracy: 0.9806\n"
          ],
          "name": "stdout"
        },
        {
          "output_type": "display_data",
          "data": {
            "image/png": "[encoded data removed]",
            "text/plain": [
              "<Figure size 432x288 with 1 Axes>"
            ]
          },
          "metadata": {
            "tags": [],
            "needs_background": "light"
          }
        }
      ]
    },
    {
      "cell_type": "code",
      "metadata": {
        "id": "2hVG8tTYWON9",
        "colab": {
          "base_uri": "https://localhost:8080/",
          "height": 50
        },
        "outputId": "a149f4ec-6f23-4614-f765-3da46c614c9f"
      },
      "source": [
        "model01.evaluate(xTest01, yTest)"
      ],
      "execution_count": null,
      "outputs": [
        {
          "output_type": "stream",
          "text": [
            "103/103 [==============================] - 0s 2ms/step - loss: 0.2829 - accuracy: 0.9806\n"
          ],
          "name": "stdout"
        },
        {
          "output_type": "execute_result",
          "data": {
            "text/plain": [
              "[0.2828596830368042, 0.9805530309677124]"
            ]
          },
          "metadata": {
            "tags": []
          },
          "execution_count": 44
        }
      ]
    },
    {
      "cell_type": "code",
      "metadata": {
        "id": "GaNTaRy20a2J"
      },
      "source": [
        "# Проверим работу сети\n",
        "def createTestMultiClasses(wordIndexes, xLen, step):\n",
        "\n",
        "  nClasses = len(wordIndexes)\n",
        "  xTest6Classes01 = [] \n",
        "  xTest6Classes = []   \n",
        "  for wI in wordIndexes: \n",
        "    sample = (getSetFromIndexes(wI, xLen, step)) \n",
        "    xTest6Classes.append(sample)              \n",
        "    xTest6Classes01.append(tokenizer.sequences_to_matrix(sample)) \n",
        "  xTest6Classes01 = np.array(xTest6Classes01)                     \n",
        "  xTest6Classes = np.array(xTest6Classes)                     \n",
        "  \n",
        "  return xTest6Classes01, xTest6Classes \n",
        "\n",
        "# Распознаём тестовую выборку и выводим результаты\n",
        "def recognizeMultiClass(model, xTest, modelName):\n",
        "  print(\"НЕЙРОНКА: \", modelName)\n",
        "  print()\n",
        "  \n",
        "  totalSumRec = 0 # Сумма всех правильных ответов\n",
        "  \n",
        "  #Проходим по всем классам\n",
        "  for i in range(nClasses):\n",
        "    #Получаем результаты распознавания класса по блокам слов длины xLen\n",
        "    currPred = model.predict(xTest[i])\n",
        "    #Определяем номер распознанного класса для каждохо блока слов длины xLen\n",
        "    currOut = np.argmax(currPred, axis=1)\n",
        "\n",
        "    evVal = []\n",
        "    for j in range(nClasses):\n",
        "      evVal.append(len(currOut[currOut==j])/len(xTest[i]))\n",
        "\n",
        "    totalSumRec += len(currOut[currOut==i])\n",
        "    recognizedClass = np.argmax(evVal) #Определяем, какой класс в итоге за какой был распознан\n",
        "    \n",
        "    #Выводим результаты распознавания по текущему классу\n",
        "    isRecognized = \"Это НЕПРАВИЛЬНЫЙ ответ!\"\n",
        "    if (recognizedClass == i):\n",
        "      isRecognized = \"Это ПРАВИЛЬНЫЙ ответ!\"\n",
        "    str1 = 'Класс: ' + className[i] + \" \" * (11 - len(className[i])) + str(int(100*evVal[i])) + \"% сеть отнесла к классу \" + className[recognizedClass]\n",
        "    print(str1, \" \" * (55-len(str1)), isRecognized, sep='')\n",
        "  \n",
        "  #Выводим средний процент распознавания по всем классам вместе\n",
        "  print()\n",
        "  sumCount = 0\n",
        "  for i in range(nClasses):\n",
        "    sumCount += len(xTest[i])\n",
        "  print(\"Средний процент распознавания \", int(100*totalSumRec/sumCount), \"%\", sep='')\n",
        "\n",
        "  print()\n",
        "  \n",
        "  return totalSumRec/sumCount"
      ],
      "execution_count": null,
      "outputs": []
    },
    {
      "cell_type": "code",
      "metadata": {
        "id": "s8oo58WvwGx5"
      },
      "source": [
        "xTest6Classes01, _ = createTestMultiClasses(testWordIndexes, xLen, step) #Преобразование тестовой выборки"
      ],
      "execution_count": null,
      "outputs": []
    },
    {
      "cell_type": "code",
      "metadata": {
        "id": "ccrvz_mWwLZu",
        "colab": {
          "base_uri": "https://localhost:8080/",
          "height": 196
        },
        "outputId": "f81edfc9-245b-468e-b965-a689e808ac5a"
      },
      "source": [
        "#Проверяем точность нейронки обученной на bag of words\n",
        "pred = recognizeMultiClass(model01, xTest6Classes01, \"Тексты 01 + Dense\")"
      ],
      "execution_count": null,
      "outputs": [
        {
          "output_type": "stream",
          "text": [
            "НЕЙРОНКА:  Тексты 01 + Dense\n",
            "\n",
            "Класс: О. Генри   100% сеть отнесла к классу О. Генри  Это ПРАВИЛЬНЫЙ ответ!\n",
            "Класс: Стругацкие 98% сеть отнесла к классу Стругацкие Это ПРАВИЛЬНЫЙ ответ!\n",
            "Класс: Булгаков   99% сеть отнесла к классу Булгаков   Это ПРАВИЛЬНЫЙ ответ!\n",
            "Класс: Саймак     96% сеть отнесла к классу Саймак     Это ПРАВИЛЬНЫЙ ответ!\n",
            "Класс: Фрай       95% сеть отнесла к классу Фрай       Это ПРАВИЛЬНЫЙ ответ!\n",
            "Класс: Брэдберри  100% сеть отнесла к классу Брэдберри Это ПРАВИЛЬНЫЙ ответ!\n",
            "\n",
            "Средний процент распознавания 98%\n",
            "\n"
          ],
          "name": "stdout"
        }
      ]
    },
    {
      "cell_type": "markdown",
      "metadata": {
        "id": "p3VWBMyA5rfV"
      },
      "source": [
        "##Вариант 2"
      ]
    },
    {
      "cell_type": "markdown",
      "metadata": {
        "id": "jSQy1SiV5rr6"
      },
      "source": [
        "\n",
        "Используйте разбиение текстов на фрагменты на базе обращения граждан в органы власти, как при распознавании писателей, например, размер блока - 20 слов, шаг - 1 слово."
      ]
    },
    {
      "cell_type": "markdown",
      "metadata": {
        "id": "PsWHOwq158XQ"
      },
      "source": [
        "\n",
        "Сравните точность с базовым ноутбуком, проверьте 5 различных архитектур сети.\n",
        "Напишите функцию распознавания нужного обращения разделением его на фрагменты и распознаванием фрагментов."
      ]
    },
    {
      "cell_type": "markdown",
      "metadata": {
        "id": "y24Y6R9O5r4U"
      },
      "source": [
        "\n",
        "Попробуйте разные параметры фильтрации выборки. Добавьте какой-нибудь свой критерий для фильтрации."
      ]
    },
    {
      "cell_type": "markdown",
      "metadata": {
        "id": "oQC57u6N5_RZ"
      },
      "source": [
        "Запишите в конце ноутбука выводы о полученных исследованиях."
      ]
    },
    {
      "cell_type": "markdown",
      "metadata": {
        "id": "MCda6GPCp2PT"
      },
      "source": [
        "ULTRA PRO\n",
        "Вариант 1\n",
        "Выгрузите какой-нибудь из ваших диалогов любой соц.сети и напишите нейронную сеть для классификации собеседника по сообщению. Использование групповых чатов для обучения поощряется, но усложняет задачу. Если необходима конфиденциальность, датасет можно не предоставлять. \n",
        "\n",
        "Вариант 2\n",
        "Напишите нейронную сеть на базе болезней и добейтесь хорошей точности. Используйте xLen=50-100."
      ]
    }
  ]
}